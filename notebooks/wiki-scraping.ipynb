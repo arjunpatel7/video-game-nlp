{
 "cells": [
  {
   "cell_type": "code",
   "execution_count": 26,
   "metadata": {},
   "outputs": [],
   "source": [
    "import pandas as pd\n",
    "import wikipedia as w\n",
    "from bs4 import BeautifulSoup\n",
    "import requests\n",
    "import re\n",
    "import csv \n",
    "def retrieve_page(game):\n",
    "    # try grabbing the page, but if we can't just remove it\n",
    "    try:\n",
    "        print(game)\n",
    "        return w.page(game).content\n",
    "    except:\n",
    "        print(f\"Game {game} was not found\")\n",
    "        return \"Page Not Found\"\n"
   ]
  },
  {
   "cell_type": "code",
   "execution_count": 27,
   "metadata": {},
   "outputs": [],
   "source": [
    "# scraping nintendo switch games table\n",
    "best_selling_nintendo = requests.get(\"https://en.wikipedia.org/wiki/List_of_best-selling_Nintendo_Switch_video_games\")\n",
    "nintendo_soup = BeautifulSoup(best_selling_nintendo.text, 'html.parser')\n",
    "nintendo_table = nintendo_soup.find_all('table')\n",
    "switch_games = nintendo_table[1]\n",
    "# grabs headers which are written around \"th\" tags\n",
    "headers = [header.text.strip() for header in switch_games.find_all('th')][:8]\n",
    "\n"
   ]
  },
  {
   "cell_type": "code",
   "execution_count": 28,
   "metadata": {},
   "outputs": [
    {
     "name": "stdout",
     "output_type": "stream",
     "text": [
      "Mario Kart 8 Deluxe\n",
      "Animal Crossing: New Horizons\n",
      "Super Smash Bros. Ultimate\n",
      "The Legend of Zelda: Breath of the Wild\n",
      "Pokémon Sword and Shield\n",
      "Super Mario Odyssey\n",
      "Super Mario Party\n",
      "Game Super Mario Party was not found\n",
      "Pokémon Brilliant Diamond and Shining Pearl\n",
      "Ring Fit Adventure\n",
      "Pokémon: Let's Go, Pikachu! and Let's Go, Eevee!\n",
      "Pokémon Legends: Arceus\n",
      "New Super Mario Bros. U Deluxe\n",
      "Splatoon 2\n",
      "Luigi's Mansion 3\n",
      "Pokémon Scarlet and Violet\n",
      "Super Mario 3D World + Bowser's Fury\n",
      "Super Mario 3D All-Stars\n",
      "Game Super Mario 3D All-Stars was not found\n",
      "Mario Party Superstars\n",
      "Splatoon 3\n",
      "Super Mario Maker 2\n",
      "Monster Hunter Rise\n",
      "Game Monster Hunter Rise was not found\n",
      "Nintendo Switch Sports\n",
      "The Legend of Zelda: Link's Awakening\n",
      "Kirby and the Forgotten Land\n",
      "Mario Tennis Aces\n",
      "Clubhouse Games: 51 Worldwide Classics\n",
      "Donkey Kong Country: Tropical Freeze\n",
      "Hyrule Warriors: Age of Calamity\n",
      "Kirby Star Allies\n",
      "The Legend of Zelda: Skyward Sword HD\n",
      "Fire Emblem: Three Houses\n",
      "1-2-Switch\n",
      "Momotaro Dentetsu: Showa, Heisei, Reiwa Mo Teiban!\n",
      "Paper Mario: The Origami King\n",
      "Minecraft\n",
      "Among Us\n",
      "Game Among Us was not found\n",
      "Yoshi's Crafted World\n",
      "Metroid Dread\n",
      "Game Metroid Dread was not found\n",
      "New Pokémon Snap\n",
      "Arms\n",
      "Xenoblade Chronicles 2\n",
      "Mario Golf: Super Rush\n",
      "Pikmin 3 Deluxe\n",
      "Mario Strikers: Battle League\n",
      "Octopath Traveler\n",
      "Captain Toad: Treasure Tracker\n",
      "Dragon Ball FighterZ\n",
      "Game Dragon Ball FighterZ was not found\n",
      "Mario + Rabbids Kingdom Battle\n",
      "Pokémon Mystery Dungeon: Rescue Team DX\n",
      "Taiko no Tatsujin: Drum 'n' Fun!\n",
      "Xenoblade Chronicles 3\n",
      "Miitopia\n",
      "Xenoblade Chronicles: Definitive Edition\n",
      "Big Brain Academy: Brain vs. Brain\n",
      "Mario Kart Live: Home Circuit\n",
      "Dragon Ball Xenoverse 2\n",
      "Pokkén Tournament DX\n",
      "Marvel Ultimate Alliance 3: The Black Order\n",
      "Nintendo Labo Toy-Con 01: Variety Kit\n",
      "Astral Chain\n",
      "WarioWare: Get It Together!\n",
      "Naruto Shippudden: Ultimate Ninja Storm Trilogy\n",
      "Game Naruto Shippudden: Ultimate Ninja Storm Trilogy was not found\n",
      "Dr Kawashima's Brain Training for Nintendo Switch\n",
      "Resident Evil: Revelations Collection\n",
      "Game Builder Garage\n",
      "Bayonetta 2\n",
      "Game Bayonetta 2 was not found\n",
      "Enter the Gungeon\n",
      "Fire Emblem Warriors: Three Hopes\n",
      "Fitness Boxing\n",
      "Fitness Boxing 2: Rhythm and Exercise\n",
      "Shin Megami Tensei V\n",
      "Story of Seasons: Pioneers of Olive Town\n",
      "Thief Simulator\n"
     ]
    }
   ],
   "source": [
    "data_rows = switch_games.find_all('tr')\n",
    "rows = []\n",
    "\n",
    "# Modified from: \n",
    "for row in data_rows:\n",
    "    value = row.find_all(re.compile('td|th'))\n",
    "    beautified_value = [ele.text.strip() for ele in value]\n",
    "    # Remove data arrays that are empty\n",
    "    if len(beautified_value) == 0:\n",
    "        continue\n",
    "    # deal with numbers that are missing entries\n",
    "    if len(beautified_value) < len(headers):\n",
    "        beautified_value = [None] + beautified_value\n",
    "    rows.append(beautified_value)\n",
    "\n",
    "\n",
    "\n",
    "with open('nintendo_bestsellers_notext.csv', 'w', newline=\"\") as output:\n",
    "    writer = csv.writer(output)\n",
    "    writer.writerow(headers)\n",
    "    writer.writerows(rows)\n",
    "\n",
    "\n",
    "#drop the repeated first row\n",
    "ns_bestsellers = pd.read_csv(\"nintendo_bestsellers_notext.csv\")[1:]\n",
    "\n",
    "\n",
    "#try to grab each page\n",
    "game_text = ns_bestsellers[\"Title\"].apply(lambda x: retrieve_page(x))\n",
    "\n"
   ]
  },
  {
   "cell_type": "code",
   "execution_count": 29,
   "metadata": {},
   "outputs": [],
   "source": [
    "ns_bestsellers[\"wiki_page\"] = game_text\n",
    "\n",
    "# drop any pages that are blank\n",
    "\n",
    "ns_bestsellers.to_csv(\"nintendo_bestsellers.csv\")"
   ]
  },
  {
   "cell_type": "code",
   "execution_count": 30,
   "metadata": {},
   "outputs": [
    {
     "name": "stdout",
     "output_type": "stream",
     "text": [
      "data-cleaning.ipynb             nintendo_bestsellers_notext.csv\n",
      "nintendo_bestsellers.csv        wiki-scraping.ipynb\n"
     ]
    }
   ],
   "source": [
    "!ls"
   ]
  },
  {
   "cell_type": "code",
   "execution_count": null,
   "metadata": {},
   "outputs": [],
   "source": []
  }
 ],
 "metadata": {
  "kernelspec": {
   "display_name": "Python 3.10.8 ('wiki-nlp')",
   "language": "python",
   "name": "python3"
  },
  "language_info": {
   "codemirror_mode": {
    "name": "ipython",
    "version": 3
   },
   "file_extension": ".py",
   "mimetype": "text/x-python",
   "name": "python",
   "nbconvert_exporter": "python",
   "pygments_lexer": "ipython3",
   "version": "3.10.8"
  },
  "orig_nbformat": 4,
  "vscode": {
   "interpreter": {
    "hash": "183bb588080b91ad5d7f7fcab589f11f22ed3b9c2d48293515f2f4450ff4ef12"
   }
  }
 },
 "nbformat": 4,
 "nbformat_minor": 2
}
