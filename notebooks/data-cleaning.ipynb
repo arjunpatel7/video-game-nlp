{
 "cells": [
  {
   "cell_type": "code",
   "execution_count": 11,
   "metadata": {},
   "outputs": [],
   "source": [
    "import pandas as pd\n",
    "import numpy as np\n",
    "import re\n",
    "\n",
    "from nltk.tokenize import word_tokenize, sent_tokenize\n",
    "from nltk.stem import PorterStemmer\n",
    "\n",
    "from textacy.preprocessing.remove import accents, brackets, punctuation\n",
    "from textacy.preprocessing.replace import numbers, urls\n",
    "from textacy.preprocessing.normalize import whitespace\n",
    "\n",
    "import os"
   ]
  },
  {
   "cell_type": "code",
   "execution_count": 12,
   "metadata": {},
   "outputs": [],
   "source": [
    "def clean_page(page):\n",
    "    # given a page, removes heading, newlines, tabs, etc\n",
    "    page = re.sub(\"=+\", \"\", page)\n",
    "    page = page.replace(\"\\n\", \"\")\n",
    "    page = page.replace(\"\\t\", \"\")\n",
    "    page = accents(brackets(page))\n",
    "    page = urls(page)\n",
    "\n",
    "    return whitespace(page).lower()\n",
    "\n",
    "def clean_sentences(s):\n",
    "        \n",
    "    pattern = r'[^A-Za-z0-9]+'\n",
    "    page = re.sub(pattern, '', s)\n",
    "    return s\n",
    "\n",
    "\n",
    "  \n",
    "ps = PorterStemmer()\n",
    "def prepare_document(doc):\n",
    "    # given a document, preprocesses and tokenizes it for tfidf\n",
    "\n",
    "    # clean the document of misc symbols and headings, lowercase it\n",
    "    doc = clean_page(doc)\n",
    "\n",
    "    #tokenize by sentence and then by word\n",
    "    sentences = sent_tokenize(doc)\n",
    "\n",
    "    #remove punctuation\n",
    "    sentences = [punctuation(s) for s in sentences]\n",
    "\n",
    "\n",
    "    # stem every word\n",
    "    sentences_and_words = [word_tokenize(s) for s in sentences]\n",
    "\n",
    "    prepared_doc = []\n",
    "    \n",
    "    for sent in sentences_and_words:\n",
    "        stemmed_sentences = []\n",
    "        for word in sent:\n",
    "            stemmed_sentences.append(ps.stem(word))\n",
    "        cleaned_sentence = \" \".join(stemmed_sentences)\n",
    "        prepared_doc.append(cleaned_sentence)\n",
    "    return \" \".join(prepared_doc)\n",
    "\n",
    "\n",
    "# small function to calculats cosine similarity of all pairs and store\n",
    "def cosine_similarity(v1, v2):\n",
    "    numerator = np.dot(v1, v2)\n",
    "    denom = np.sqrt(np.sum(np.square(v1))) * np.sqrt(np.sum(np.square(v2)))\n",
    "\n",
    "    return numerator/denom \n",
    "\n",
    "\n",
    "def cos_dicts(names, vects):\n",
    "\n",
    "    #given a set of vectors, create a dict of dicts for cosine similarity\n",
    "    # This dict of dict structure allows us to index directly into the pair we want\n",
    "    # The first key will be our desired game\n",
    "    # and the value for that key will be a dictionary of partner games\n",
    "\n",
    "    # The inner key will be the second game we wish to seek, and its value will be cosine similarity to our first game\n",
    "\n",
    "    d = {}\n",
    "    for name, vect in zip(names, vects):\n",
    "        cos_sim_by_vect = {}\n",
    "        for n2, v2 in zip(names, vects):\n",
    "            if n2 != name:\n",
    "                cos_sim_by_vect[n2] = cosine_similarity(vect, v2)\n",
    "        d[name] = cos_sim_by_vect\n",
    "    return d\n",
    "\n",
    "def retrieve_top_k_similar(n1, similarity_dict, k):\n",
    "    inner_dict = similarity_dict[n1]\n",
    "    # sort the dictionary by value, descending, then retrieve top k values\n",
    "    return sorted(inner_dict.items(), reverse = True, key = lambda x: x[1])[:k]"
   ]
  },
  {
   "cell_type": "code",
   "execution_count": 32,
   "metadata": {},
   "outputs": [],
   "source": [
    "ns_bestsellers = pd.read_csv(\"nintendo_bestsellers.csv\")"
   ]
  },
  {
   "cell_type": "code",
   "execution_count": 14,
   "metadata": {},
   "outputs": [
    {
     "data": {
      "text/plain": [
       "'Mario Kart 8 Deluxe is a 2017 kart racing game developed and published by Nintendo and released for the Nintendo Switch. The game is an expanded and enhanced re-release of the 2014 game Mario Kart 8. Deluxe follows the same gameplay as Mario Kart 8 and the rest of the Mario Kart series, where players race in go-karts while trying to sabotage each other with items. Players can control one of several characters from the Mario franchise and other Nintendo franchises, with several additional characters being added in Deluxe. The game also introduces a revamped battle mode, featuring five sub-modes and eight battle courses.\\nMario Kart 8 Deluxe was first teased in October 2016 during the Nintendo Switch reveal trailer, and was fully revealed during the Nintendo Switch Presentation in January 2017. Deluxe released on April 28, 2017 and was both a critical and commercial success. Critics widely considered it to be the definitive edition of Mario Kart 8, and some considered it the best game in the Mario Kart series or one of the best racing games of all time, while some criticized the lack of significant new content compared to the original. As of September 2022, Deluxe has sold over 48 million units, making it the best-selling Nintendo Switch game and one of the best-selling games of all time.\\nSince launch, Deluxe has received several software updates. One such update edited a gesture performed by the Inkling Girl that was likened to the bras d\\'honneur, which is considered offensive in certain areas and cultures. Additional updates introduced compatibility with the toys-to-life concept Nintendo Labo. In February 2022, Deluxe was announced to be receiving paid downloadable content known as the Booster Course Pass, which features 48 additional race courses split into six waves, set to be released by the end of 2023.\\n\\n\\n== Gameplay ==\\nLike previous entries in the Mario Kart series, Mario Kart 8 Deluxe is a kart racing game that sees players controlling characters from the Mario franchise racing in locations inspired by the Mario universe while trying to sabotage other players with items. Also similar to previous Mario Kart games, players can choose to play competitive free-for-all or team-based multiplayer. Up to four players can play together on a single system, up to eight can play together with a local wireless connection, and up to twelve can play together via online multiplayer.Deluxe includes all downloadable content (DLC) released for Mario Kart 8, including characters, courses, and vehicle components. Unlike Mario Kart 8, all characters and courses in Deluxe are accessible from the start, without needing to be unlocked. In total Deluxe includes 42 characters with several new characters—including Bowser Jr., Dry Bones, King Boo, and the Inklings from Splatoon, one of multiple crossover elements in Deluxe. Several vehicle customization options are also included in Deluxe, including kart and bike bodies, wheels, and gliders—when combined with a character\\'s weight class, the customization options determine a player\\'s stats. 48 race courses are present in the base version of Deluxe, though the game will have 96 courses after all waves of the Booster Course Pass DLC release. Returning from Mario Kart 8 are courses that make use of anti-gravity, which allows players to drive on walls and other surfaces, as well as the underwater driving and air gliding features from Mario Kart 7. In the Booster Course Pass, some courses have layouts that differ between laps, condensing multiple variations of a course into one. Races can be played in one of four speed classes, with each speed class being considerably faster than the last. Deluxe also includes \"Mirror Mode\", which flips course layouts by 90 degrees. Players can also participate in Time Trials, which see the player compete a course as fast as possible, and the ability to participate in Time Trials in an additional speed class was added in Deluxe.\\nDeluxe includes several changes to gameplay. In Deluxe, players can hold the drift button for longer to receive a larger boost—in Mario Kart 8, this could only be done using glitches. Players can also hold up to two items, with the second item held in reserve. Deluxe reintroduces two items from previous entries in the series: the Boo, which steals an item from another player and grants temporary invisibility when used; and the Feather, a battle mode-exclusive item that allows the player to gain a small boost in height when activated. Several accesibility features were also added in Deluxe to assist newer players. One of which is Start Steering, which prevents the player from veering off course when enabled, and the other is auto-acceleration, which accelerates the user\\'s vehicle without the need for a button to be held.\\nThe largest addition to Mario Kart 8 Deluxe is the revamped battle mode. Deluxe includes eight battle mode-exclusive courses, three of which are adapted from previous Mario Kart games. These battle mode courses are designed specificsally for the mode, rather than repurposing standard race courses like Mario Kart 8. In Deluxe, battle mode is composed of five unique sub-modes: Balloon Battle sees players using items to destroy other players\\' balloons, though unlike the mode\\'s previous incarnations, the mode is point-based rather than last-man-standing, meaning the winner is the person who destroys the most balloons during the time limit, with players respawning when defeated, rather than being permanently eliminated. Bob-omb Blast is a variation of Balloon Battle, though all items are replaced by Bob-ombs. In Shine Thief, players must maintain control of a Shine Sprite for as long as possible, while preventing opponents from gaining control. Each player—or team, depending on the settings—has an amount of time that they need to be in control of the Spine Sprite in order to win. Coin Runners sees players compete to have the most coins in their possesion by the end of the match, with players gaining points by finding coins in the courses or stealing them from other players. Renegade Roundup, a mode introduced in Deluxe, involves a team of \"renegades\" trying to avoid opponent \"authorities\" armed with Piranha Plants, a play on the children\\'s game \"cops and robbers\". Captured renegades can be freed if their teamates activate a switch near in person in which the captured renegades are held, though if all renegades are captured, the authorities emerge victorious. However, the authorities will lose if all renegades have not been captured by the end of the time limit.\\n\\n\\n== Marketing and release ==\\nOn October 20, 2016, in the initial reveal trailer for the Nintendo Switch, a brief glimpse of a Mario Kart game for the system was shown, though it was unclear at the time whether it would be a new entry in the series or a port of Mario Kart 8 on the Wii U. Three months later, at the Nintendo Switch Presentation on January 12, 2017, the game was formally revealed as Mario Kart 8 Deluxe. It was announced that Deluxe would feature all content—including DLC—from Mario Kart 8, as well as a revamped battle mode, crossover elements from Splatoon, new mechanics, and a release date of April 28, 2017. One day after, Nintendo revealed a steering wheel accessory for the Switch\\'s Joy-Con controllers to be used with Deluxe for motion-controlled steering. Nintendo released an overview trailer for Deluxe on March 10, showcasing the game\\'s battle mode, including battle mode-exclusive courses and the return of the Shine Thief mode from Mario Kart: Double Dash. After the trailer, several internet memes circulated surrounding Donkey Kong appearing to perform a celebratory dab.On April 12, 2017, Nintendo\\'s Russian storefront revealed a bundle containing the Nintendo Switch and a copy of Mario Kart 8 Deluxe, though a representative of Nintendo claimed the company had no plans at the time to release the bundle outside of Russia. Once the bundle was introduced to international audiences in 2018, it has been promoted every year since for Black Friday.\\n\\n\\n=== Fan response ===\\nSeveral mods have been created for Mario Kart 8 Deluxe. In February 2022, a mod was created that added Kirby\\'s Mouthful Mode car transformation (colloquially known as \"Carby\") from Kirby and the Forgotten Land as a selectable kart and character. In June 2022, a mod was published that added Green Hill Zone from the Sonic the Hedgehog series as a course.\\n\\n\\n=== Sales ===\\nMario Kart 8 Deluxe sold 459,000 copies in the United States on its launch day, making it the fastest-selling entry in the Mario Kart series, ahead of 2008\\'s Mario Kart Wii by 25,000 units. Roughly one year after launch, Deluxe had sold 9.22 million copies. It surpassed Super Mario Odyssey as the best-selling game on the Nintendo Switch in 2019, and Mario Kart Wii as the best-selling Mario Kart game in 2021. Since its release in 2017, Deluxe has been a consistent top-selling game on the Nintendo Switch. As of September 30, 2022, Mario Kart 8 Deluxe has sold 48.41 million units, making it the best-selling Nintendo Switch game, as well as one of the best-selling games of all time.\\n\\n\\n== Updates and downloadable content ==\\nOn May 18, 2017, Nintendo released a software update for Mario Kart 8 Deluxe that changed one of the victory gestures done by the Inkling Girl. Prior to the update, the Inkling Girl performed a gesture that consisted of placing her hand on a flexed bicep and pumping her fist into the air. In Japan, the gesture means something similar to \"bring it on!\", though in European and Latin American countries, it was likened to the bras d\\'honneur, an offensive gesture that can be interpreted as \"up your ass\", \"fuck you\", or similar meanings. After the update, the Inkling Girl no longer clenches her fist around her flexed arm, instead simply performing a \"fist pump\", though the rest of the gesture was unchanged.On June 25, 2018, an update for Mario Kart 8 Deluxe added compatibility with Nintendo Labo, a toys-to-life concept that utilizes cardboard and the technology of the Nintendo Switch Joy-Con controllers. The first update introduced the option to use the Toy-Con Motorbike as a controller in Mario Kart 8 Deluxe, allowing the player to control the game using the physical throttle, handlebars, and gyroscope present on the Toy-Con Motorbike, while actions like braking, drifting, and item pickups are still performed using the standard controller buttons. On August 24, 2018, it was announced that the Toy-Con Car, Pedal, and Key would become compatible with Mario Kart 8 Deluxe when they launched on September 14. Using the Toy-Con Car, Pedal, and Key allow the player to control their character using physical controls—including actions like braking and drifting, as well as use the horn on the steering wheel to launch items.On July 20, 2018, an update was released that added several elements from The Legend of Zelda: Breath of the Wild—including the motorbike from the game\\'s The Champion\\'s Ballad DLC, as well as an outfit for Link in which he wears the Champion\\'s Tunic from Breath of the Wild.\\n\\n\\n=== Booster Course Pass ===\\n\\nDuring a February 2022 Nintendo Direct, it was announced that Mario Kart 8 Deluxe would get a paid downloadable content season pass called the Booster Course Pass. Courses in the Booster Course Pass are largely remastered from their incarnations in previous Mario Kart games. The Booster Course Pass is set to release in six waves, with each wave containing eight courses split into two cups, totaling to 48 additional tracks to be released by the end of 2023. The first wave of the Booster Course Pass was released on March 22, 2022, containing the Golden Dash Cup and the Lucky Cat Cup. Wave 2 of the Booster Course Pass released on August 4, 2022, containing the Turnip Cup and the Propeller Cup. Wave 2 also included Sky-High Sundae, an original course not introduced in a previous Mario Kart game. Alongside the release of Wave 2, Nintendo released an update to the Wave 1 course Coconut Mall that changed the cars at the end of the course to move in donuts, rather than remain stationary, except for Time Trials. This change was widely praised, especially after many were disappointed that the cars were stationary in the Booster Course Pass to begin with. Wave 3 of the Booster Course Pass is set to release on December 7, 2022,  containing the Rock Cup and the Moon Cup.\\n\\n\\n== Reception ==\\n\\n\\n=== Critical reception ===\\nMario Kart 8 Deluxe received \"universal acclaim\" according to the review aggregate website Metacritic. Many reviewers considered it to be the definitive version of Mario Kart 8, as well as one of the best games in the Mario Kart series or one of the best racing games of all time. Some reviewers also consiered the game to be an essential purchase for Nintendo Switch owners. However, many reviewers criticized the lack of new content in Deluxe compared to Mario Kart 8.The core racing mode present in Mario Kart 8 Deluxe was praised. The rubber-banding mechanics present in the game\\'s AI competitors was criticized, though Game Informer noted that \"fans accepted that pitfall as a series mainstay long ago\", and that Deluxe is still \"the same great title from the Wii U\". GameSpot and Nintendo Life also considered Deluxe\\'s core gameplay to be as strong as the original. GamesTM\\'s reviewer disliked the return of sponsored crossovers, despite otherwise appreciating the return of all content in Deluxe. The mechanical changes in Deluxe also received praise. The ability to hold two items in Deluxe was praised, with many liking how it added more strategy to Deluxe\\'s item play, as well as making gameplay more exciting. Kotaku and Eurogamer both appreciated the change, though they felt that the change wasn\\'t major. Accessibility options like Smart Steering and Auto-Acceleration were also praised. Many felt that the additions made Deluxe the most accessible Mario Kart game, and others appreciated how they helped less experienced players enjoy the game, despite making the game too easy for veteran players. However, some reviewers disliked how Smart Steering was enabled by default upon first launching the game. Other reviewers disliked the accessbility mechanics\\' implementation, saying that they would sometimes overcorrect, or otherwise lack precise control.Deluxe\\'s revamped battle mode received wide acclaim. Easy Allies and Kotaku claimed that the new battle mode far outshined the original game, and Pocket Gamer said that Deluxe returned battle mode to its \"original arena-battling glory\". GamesRadar+ found that the quality present in Deluxe\\'s battle courses \"ranges from solid to excellent\", with VentureBeat saying that they remedied the issue with the original Mario Kart 8\\'s battle courses. However, Electronic Gaming Monthly said that the improved battle mode was \"not so much a point for Deluxe that these modes are included as it is a retroactive demerit for the original Mario Kart 8\". Many critics considered Renegade Roundup to be the best of Deluxe\\'s battle modes, though GameRevolution and USgamer said it was their least favorite of the battle modes.Reception towards Deluxe\\'s single-player and online multiplayer offerings was mixed. 4Players said that those playing alone or online \"should think twice\" about buying the game, calling the game\\'s single-player options \"unimaginative\", and Nintendo World Report felt that Deluxe was lacking an important element. IGN called Deluxe\\'s online multiplayer \"as barebones as ever\", though Kotaku felt that it was \"as solid as its ever been\".The graphics and soundtrack of the game was praised by critics. Many described the game\\'s graphics were \\'gorgeous\\' or \\'beautiful\\', with some saying that the graphics of Deluxe were an upgrade from the Wii U original. GamesTM praised the \"incredible\" lighting of Deluxe, saying that courses like Rainbow Road and Electrodrome stood out as \"fantastic showcases for the Nintendo universe and its creative spirit\", as well as praising the game\\'s sound design. IGN felt that the \"great art direction\" in 8 and 8 Deluxe was largely responsible for the game\\'s graphical quality, and PCMag described the game\\'s performance as \"consistently solid\", aside from the lowered framerate when playing in four-player split screen. Easy Allies called Deluxe\\'s soundtrack \"something special\", saying that its renditions of both original and returning songs were \"fantastic and downright catchy\". Eurogamer called the game\\'s soundtrack \"outrageously upbeat\", and that Deluxe\\'s \"definining moment\" was perhaps the game\\'s live band rendition of Super Mario Kart\\'s main theme.\\n\\n\\n==== Booster Course Pass ====\\n\\nUpon announcement, the Booster Course Pass received mixed reception from fans. Many fans disliked that additional content for a previous game was being prioritized over a new entry in the series, citing how it had been nearly eight years since Mario Kart 8 first released on the Wii U. The graphics of the courses in the Booster Course Pass were also a point of contention, with some saying that they fell short of the standards set by Deluxe.After release, critics were mixed—according to Metacritic, Wave 1 received \"mixed or average reviews\", and Wave 2 received \"generally favorable reviews\". Criticism focused on the graphics, which were lower in detail compared to courses from the main game. Digital Foundry attributed this to the courses being built upon their versions from Mario Kart Tour. On the other hand, many reviewers felt that the courses that originated in Tour were among the best gameplay-wise, and Ninja Hideaway in particular was praised as a highlight of Wave 1. Some courses in Wave 2 were lauded, with Nintendo Life calling Waluigi Pinball\\'s graphics \"stunning\". Another common disappointment was that many courses did not include Mario Kart 8\\'s signature anti-gravity or underwater features. GameSpot lamented how the Booster Course Pass only introduced new courses, rather than new characters or customization parts. Nintendo Life praised the audio design, calling it \"stellar\" and \"a delight\", and Destructoid called Sydney Sprint\\'s soundtrack \"the best\" music of the Booster Course Pass. The addition of courses that vary every lap was praised by critics, with Nintendo Life wishing it would become a \"mainstay\" feature of the series.\\n\\n\\n=== Accolades ===\\nMario Kart 8 Deluxe has been nominated for multiple awards. The game was nominated for \"Best Switch Game\" and \"Best Remake/Remaster\" in IGN\\'s Best of 2017 Awards. Destructoid nominated the game for its \"Best Switch Game\" in their Game of the Year Awards in 2017, and the game was awarded \"Old Game of the Year\" at Giant Bomb\\'s 2017 Game of the Year Awards.\\n\\n\\n== Notes ==\\n\\n\\n== References ==\\n\\n\\n== External links ==\\nOfficial website'"
      ]
     },
     "execution_count": 14,
     "metadata": {},
     "output_type": "execute_result"
    }
   ],
   "source": [
    "# We need to remove headings, normalise case and punctuation, newlines\n",
    "ns_bestsellers.wiki_page.iloc[0]"
   ]
  },
  {
   "cell_type": "code",
   "execution_count": 15,
   "metadata": {},
   "outputs": [
    {
     "data": {
      "text/plain": [
       "'mario kart 8 deluxe is a 2017 kart racing game developed and published by nintendo and released for the nintendo switch. the game is an expanded and enhanced re-release of the 2014 game mario kart 8. deluxe follows the same gameplay as mario kart 8 and the rest of the mario kart series, where players race in go-karts while trying to sabotage each other with items. players can control one of several characters from the mario franchise and other nintendo franchises, with several additional characters being added in deluxe. the game also introduces a revamped battle mode, featuring five sub-modes and eight battle courses.mario kart 8 deluxe was first teased in october 2016 during the nintendo switch reveal trailer, and was fully revealed during the nintendo switch presentation in january 2017. deluxe released on april 28, 2017 and was both a critical and commercial success. critics widely considered it to be the definitive edition of mario kart 8, and some considered it the best game in the mario kart series or one of the best racing games of all time, while some criticized the lack of significant new content compared to the original. as of september 2022, deluxe has sold over 48 million units, making it the best-selling nintendo switch game and one of the best-selling games of all time.since launch, deluxe has received several software updates. one such update edited a gesture performed by the inkling girl that was likened to the bras d\\'honneur, which is considered offensive in certain areas and cultures. additional updates introduced compatibility with the toys-to-life concept nintendo labo. in february 2022, deluxe was announced to be receiving paid downloadable content known as the booster course pass, which features 48 additional race courses split into six waves, set to be released by the end of 2023. gameplay like previous entries in the mario kart series, mario kart 8 deluxe is a kart racing game that sees players controlling characters from the mario franchise racing in locations inspired by the mario universe while trying to sabotage other players with items. also similar to previous mario kart games, players can choose to play competitive free-for-all or team-based multiplayer. up to four players can play together on a single system, up to eight can play together with a local wireless connection, and up to twelve can play together via online multiplayer.deluxe includes all downloadable content released for mario kart 8, including characters, courses, and vehicle components. unlike mario kart 8, all characters and courses in deluxe are accessible from the start, without needing to be unlocked. in total deluxe includes 42 characters with several new characters—including bowser jr., dry bones, king boo, and the inklings from splatoon, one of multiple crossover elements in deluxe. several vehicle customization options are also included in deluxe, including kart and bike bodies, wheels, and gliders—when combined with a character\\'s weight class, the customization options determine a player\\'s stats. 48 race courses are present in the base version of deluxe, though the game will have 96 courses after all waves of the booster course pass dlc release. returning from mario kart 8 are courses that make use of anti-gravity, which allows players to drive on walls and other surfaces, as well as the underwater driving and air gliding features from mario kart 7. in the booster course pass, some courses have layouts that differ between laps, condensing multiple variations of a course into one. races can be played in one of four speed classes, with each speed class being considerably faster than the last. deluxe also includes \"mirror mode\", which flips course layouts by 90 degrees. players can also participate in time trials, which see the player compete a course as fast as possible, and the ability to participate in time trials in an additional speed class was added in deluxe.deluxe includes several changes to gameplay. in deluxe, players can hold the drift button for longer to receive a larger boost—in mario kart 8, this could only be done using glitches. players can also hold up to two items, with the second item held in reserve. deluxe reintroduces two items from previous entries in the series: the boo, which steals an item from another player and grants temporary invisibility when used; and the feather, a battle mode-exclusive item that allows the player to gain a small boost in height when activated. several accesibility features were also added in deluxe to assist newer players. one of which is start steering, which prevents the player from veering off course when enabled, and the other is auto-acceleration, which accelerates the user\\'s vehicle without the need for a button to be held.the largest addition to mario kart 8 deluxe is the revamped battle mode. deluxe includes eight battle mode-exclusive courses, three of which are adapted from previous mario kart games. these battle mode courses are designed specificsally for the mode, rather than repurposing standard race courses like mario kart 8. in deluxe, battle mode is composed of five unique sub-modes: balloon battle sees players using items to destroy other players\\' balloons, though unlike the mode\\'s previous incarnations, the mode is point-based rather than last-man-standing, meaning the winner is the person who destroys the most balloons during the time limit, with players respawning when defeated, rather than being permanently eliminated. bob-omb blast is a variation of balloon battle, though all items are replaced by bob-ombs. in shine thief, players must maintain control of a shine sprite for as long as possible, while preventing opponents from gaining control. each player—or team, depending on the settings—has an amount of time that they need to be in control of the spine sprite in order to win. coin runners sees players compete to have the most coins in their possesion by the end of the match, with players gaining points by finding coins in the courses or stealing them from other players. renegade roundup, a mode introduced in deluxe, involves a team of \"renegades\" trying to avoid opponent \"authorities\" armed with piranha plants, a play on the children\\'s game \"cops and robbers\". captured renegades can be freed if their teamates activate a switch near in person in which the captured renegades are held, though if all renegades are captured, the authorities emerge victorious. however, the authorities will lose if all renegades have not been captured by the end of the time limit. marketing and release on october 20, 2016, in the initial reveal trailer for the nintendo switch, a brief glimpse of a mario kart game for the system was shown, though it was unclear at the time whether it would be a new entry in the series or a port of mario kart 8 on the wii u. three months later, at the nintendo switch presentation on january 12, 2017, the game was formally revealed as mario kart 8 deluxe. it was announced that deluxe would feature all content—including dlc—from mario kart 8, as well as a revamped battle mode, crossover elements from splatoon, new mechanics, and a release date of april 28, 2017. one day after, nintendo revealed a steering wheel accessory for the switch\\'s joy-con controllers to be used with deluxe for motion-controlled steering. nintendo released an overview trailer for deluxe on march 10, showcasing the game\\'s battle mode, including battle mode-exclusive courses and the return of the shine thief mode from mario kart: double dash. after the trailer, several internet memes circulated surrounding donkey kong appearing to perform a celebratory dab.on april 12, 2017, nintendo\\'s russian storefront revealed a bundle containing the nintendo switch and a copy of mario kart 8 deluxe, though a representative of nintendo claimed the company had no plans at the time to release the bundle outside of russia. once the bundle was introduced to international audiences in 2018, it has been promoted every year since for black friday. fan response several mods have been created for mario kart 8 deluxe. in february 2022, a mod was created that added kirby\\'s mouthful mode car transformation from kirby and the forgotten land as a selectable kart and character. in june 2022, a mod was published that added green hill zone from the sonic the hedgehog series as a course. sales mario kart 8 deluxe sold 459,000 copies in the united states on its launch day, making it the fastest-selling entry in the mario kart series, ahead of 2008\\'s mario kart wii by 25,000 units. roughly one year after launch, deluxe had sold 9.22 million copies. it surpassed super mario odyssey as the best-selling game on the nintendo switch in 2019, and mario kart wii as the best-selling mario kart game in 2021. since its release in 2017, deluxe has been a consistent top-selling game on the nintendo switch. as of september 30, 2022, mario kart 8 deluxe has sold 48.41 million units, making it the best-selling nintendo switch game, as well as one of the best-selling games of all time. updates and downloadable content on may 18, 2017, nintendo released a software update for mario kart 8 deluxe that changed one of the victory gestures done by the inkling girl. prior to the update, the inkling girl performed a gesture that consisted of placing her hand on a flexed bicep and pumping her fist into the air. in japan, the gesture means something similar to \"bring it on!\", though in european and latin american countries, it was likened to the bras d\\'honneur, an offensive gesture that can be interpreted as \"up your ass\", \"fuck you\", or similar meanings. after the update, the inkling girl no longer clenches her fist around her flexed arm, instead simply performing a \"fist pump\", though the rest of the gesture was unchanged.on june 25, 2018, an update for mario kart 8 deluxe added compatibility with nintendo labo, a toys-to-life concept that utilizes cardboard and the technology of the nintendo switch joy-con controllers. the first update introduced the option to use the toy-con motorbike as a controller in mario kart 8 deluxe, allowing the player to control the game using the physical throttle, handlebars, and gyroscope present on the toy-con motorbike, while actions like braking, drifting, and item pickups are still performed using the standard controller buttons. on august 24, 2018, it was announced that the toy-con car, pedal, and key would become compatible with mario kart 8 deluxe when they launched on september 14. using the toy-con car, pedal, and key allow the player to control their character using physical controls—including actions like braking and drifting, as well as use the horn on the steering wheel to launch items.on july 20, 2018, an update was released that added several elements from the legend of zelda: breath of the wild—including the motorbike from the game\\'s the champion\\'s ballad dlc, as well as an outfit for link in which he wears the champion\\'s tunic from breath of the wild. booster course pass during a february 2022 nintendo direct, it was announced that mario kart 8 deluxe would get a paid downloadable content season pass called the booster course pass. courses in the booster course pass are largely remastered from their incarnations in previous mario kart games. the booster course pass is set to release in six waves, with each wave containing eight courses split into two cups, totaling to 48 additional tracks to be released by the end of 2023. the first wave of the booster course pass was released on march 22, 2022, containing the golden dash cup and the lucky cat cup. wave 2 of the booster course pass released on august 4, 2022, containing the turnip cup and the propeller cup. wave 2 also included sky-high sundae, an original course not introduced in a previous mario kart game. alongside the release of wave 2, nintendo released an update to the wave 1 course coconut mall that changed the cars at the end of the course to move in donuts, rather than remain stationary, except for time trials. this change was widely praised, especially after many were disappointed that the cars were stationary in the booster course pass to begin with. wave 3 of the booster course pass is set to release on december 7, 2022, containing the rock cup and the moon cup. reception critical reception mario kart 8 deluxe received \"universal acclaim\" according to the review aggregate website metacritic. many reviewers considered it to be the definitive version of mario kart 8, as well as one of the best games in the mario kart series or one of the best racing games of all time. some reviewers also consiered the game to be an essential purchase for nintendo switch owners. however, many reviewers criticized the lack of new content in deluxe compared to mario kart 8.the core racing mode present in mario kart 8 deluxe was praised. the rubber-banding mechanics present in the game\\'s ai competitors was criticized, though game informer noted that \"fans accepted that pitfall as a series mainstay long ago\", and that deluxe is still \"the same great title from the wii u\". gamespot and nintendo life also considered deluxe\\'s core gameplay to be as strong as the original. gamestm\\'s reviewer disliked the return of sponsored crossovers, despite otherwise appreciating the return of all content in deluxe. the mechanical changes in deluxe also received praise. the ability to hold two items in deluxe was praised, with many liking how it added more strategy to deluxe\\'s item play, as well as making gameplay more exciting. kotaku and eurogamer both appreciated the change, though they felt that the change wasn\\'t major. accessibility options like smart steering and auto-acceleration were also praised. many felt that the additions made deluxe the most accessible mario kart game, and others appreciated how they helped less experienced players enjoy the game, despite making the game too easy for veteran players. however, some reviewers disliked how smart steering was enabled by default upon first launching the game. other reviewers disliked the accessbility mechanics\\' implementation, saying that they would sometimes overcorrect, or otherwise lack precise control.deluxe\\'s revamped battle mode received wide acclaim. easy allies and kotaku claimed that the new battle mode far outshined the original game, and pocket gamer said that deluxe returned battle mode to its \"original arena-battling glory\". gamesradar+ found that the quality present in deluxe\\'s battle courses \"ranges from solid to excellent\", with venturebeat saying that they remedied the issue with the original mario kart 8\\'s battle courses. however, electronic gaming monthly said that the improved battle mode was \"not so much a point for deluxe that these modes are included as it is a retroactive demerit for the original mario kart 8\". many critics considered renegade roundup to be the best of deluxe\\'s battle modes, though gamerevolution and usgamer said it was their least favorite of the battle modes.reception towards deluxe\\'s single-player and online multiplayer offerings was mixed. 4players said that those playing alone or online \"should think twice\" about buying the game, calling the game\\'s single-player options \"unimaginative\", and nintendo world report felt that deluxe was lacking an important element. ign called deluxe\\'s online multiplayer \"as barebones as ever\", though kotaku felt that it was \"as solid as its ever been\".the graphics and soundtrack of the game was praised by critics. many described the game\\'s graphics were \\'gorgeous\\' or \\'beautiful\\', with some saying that the graphics of deluxe were an upgrade from the wii u original. gamestm praised the \"incredible\" lighting of deluxe, saying that courses like rainbow road and electrodrome stood out as \"fantastic showcases for the nintendo universe and its creative spirit\", as well as praising the game\\'s sound design. ign felt that the \"great art direction\" in 8 and 8 deluxe was largely responsible for the game\\'s graphical quality, and pcmag described the game\\'s performance as \"consistently solid\", aside from the lowered framerate when playing in four-player split screen. easy allies called deluxe\\'s soundtrack \"something special\", saying that its renditions of both original and returning songs were \"fantastic and downright catchy\". eurogamer called the game\\'s soundtrack \"outrageously upbeat\", and that deluxe\\'s \"definining moment\" was perhaps the game\\'s live band rendition of super mario kart\\'s main theme. booster course pass upon announcement, the booster course pass received mixed reception from fans. many fans disliked that additional content for a previous game was being prioritized over a new entry in the series, citing how it had been nearly eight years since mario kart 8 first released on the wii u. the graphics of the courses in the booster course pass were also a point of contention, with some saying that they fell short of the standards set by deluxe.after release, critics were mixed—according to metacritic, wave 1 received \"mixed or average reviews\", and wave 2 received \"generally favorable reviews\". criticism focused on the graphics, which were lower in detail compared to courses from the main game. digital foundry attributed this to the courses being built upon their versions from mario kart tour. on the other hand, many reviewers felt that the courses that originated in tour were among the best gameplay-wise, and ninja hideaway in particular was praised as a highlight of wave 1. some courses in wave 2 were lauded, with nintendo life calling waluigi pinball\\'s graphics \"stunning\". another common disappointment was that many courses did not include mario kart 8\\'s signature anti-gravity or underwater features. gamespot lamented how the booster course pass only introduced new courses, rather than new characters or customization parts. nintendo life praised the audio design, calling it \"stellar\" and \"a delight\", and destructoid called sydney sprint\\'s soundtrack \"the best\" music of the booster course pass. the addition of courses that vary every lap was praised by critics, with nintendo life wishing it would become a \"mainstay\" feature of the series. accolades mario kart 8 deluxe has been nominated for multiple awards. the game was nominated for \"best switch game\" and \"best remake/remaster\" in ign\\'s best of 2017 awards. destructoid nominated the game for its \"best switch game\" in their game of the year awards in 2017, and the game was awarded \"old game of the year\" at giant bomb\\'s 2017 game of the year awards. notes references external links official website'"
      ]
     },
     "execution_count": 15,
     "metadata": {},
     "output_type": "execute_result"
    }
   ],
   "source": [
    "clean_page(ns_bestsellers.wiki_page.iloc[0])"
   ]
  },
  {
   "cell_type": "code",
   "execution_count": 16,
   "metadata": {},
   "outputs": [],
   "source": [
    "# preprocessing for TFIDF\n",
    "\n",
    "# tokenization, stemming/lemmatization, whitespace/newline removal, etc\n",
    "\n",
    "#tokenization will be taken care of by nltk as well\n",
    "# sentence tokenization, followed by word tokenization\n",
    "# each row in our dataset will be a document, each column will be a word\n",
    "\n",
    "#We'll have our input data be a single document, so we can re-use the pipeline during our model training\n"
   ]
  },
  {
   "cell_type": "code",
   "execution_count": 17,
   "metadata": {},
   "outputs": [
    {
     "data": {
      "text/plain": [
       "'mario kart 8 delux is a 2017 kart race game develop and publish by nintendo and releas for the nintendo switch the game is an expand and enhanc re releas of the 2014 game mario kart 8 delux follow the same gameplay as mario kart 8 and the rest of the mario kart seri where player race in go kart while tri to sabotag each other with item player can control one of sever charact from the mario franchis and other nintendo franchis with sever addit charact be ad in delux the game also introduc a revamp battl mode featur five sub mode and eight battl cours mario kart 8 delux wa first teas in octob 2016 dure the nintendo switch reveal trailer and wa fulli reveal dure the nintendo switch present in januari 2017 delux releas on april 28 2017 and wa both a critic and commerci success critic wide consid it to be the definit edit of mario kart 8 and some consid it the best game in the mario kart seri or one of the best race game of all time while some critic the lack of signific new content compar to the origin as of septemb 2022 delux ha sold over 48 million unit make it the best sell nintendo switch game and one of the best sell game of all time sinc launch delux ha receiv sever softwar updat one such updat edit a gestur perform by the inkl girl that wa liken to the bra d honneur which is consid offens in certain area and cultur addit updat introduc compat with the toy to life concept nintendo labo in februari 2022 delux wa announc to be receiv paid download content known as the booster cours pass which featur 48 addit race cours split into six wave set to be releas by the end of 2023 gameplay like previou entri in the mario kart seri mario kart 8 delux is a kart race game that see player control charact from the mario franchis race in locat inspir by the mario univers while tri to sabotag other player with item also similar to previou mario kart game player can choos to play competit free for all or team base multiplay up to four player can play togeth on a singl system up to eight can play togeth with a local wireless connect and up to twelv can play togeth via onlin multiplay delux includ all download content releas for mario kart 8 includ charact cours and vehicl compon unlik mario kart 8 all charact and cours in delux are access from the start without need to be unlock in total delux includ 42 charact with sever new charact includ bowser jr dri bone king boo and the inkl from splatoon one of multipl crossov element in delux sever vehicl custom option are also includ in delux includ kart and bike bodi wheel and glider when combin with a charact s weight class the custom option determin a player s stat 48 race cours are present in the base version of delux though the game will have 96 cours after all wave of the booster cours pass dlc releas return from mario kart 8 are cours that make use of anti graviti which allow player to drive on wall and other surfac as well as the underwat drive and air glide featur from mario kart 7 in the booster cours pass some cours have layout that differ between lap condens multipl variat of a cours into one race can be play in one of four speed class with each speed class be consider faster than the last delux also includ mirror mode which flip cours layout by 90 degre player can also particip in time trial which see the player compet a cours as fast as possibl and the abil to particip in time trial in an addit speed class wa ad in delux delux includ sever chang to gameplay in delux player can hold the drift button for longer to receiv a larger boost in mario kart 8 thi could onli be done use glitch player can also hold up to two item with the second item held in reserv delux reintroduc two item from previou entri in the seri the boo which steal an item from anoth player and grant temporari invis when use and the feather a battl mode exclus item that allow the player to gain a small boost in height when activ sever acces featur were also ad in delux to assist newer player one of which is start steer which prevent the player from veer off cours when enabl and the other is auto acceler which acceler the user s vehicl without the need for a button to be held the largest addit to mario kart 8 delux is the revamp battl mode delux includ eight battl mode exclus cours three of which are adapt from previou mario kart game these battl mode cours are design specifics for the mode rather than repurpos standard race cours like mario kart 8 in delux battl mode is compos of five uniqu sub mode balloon battl see player use item to destroy other player balloon though unlik the mode s previou incarn the mode is point base rather than last man stand mean the winner is the person who destroy the most balloon dure the time limit with player respawn when defeat rather than be perman elimin bob omb blast is a variat of balloon battl though all item are replac by bob omb in shine thief player must maintain control of a shine sprite for as long as possibl while prevent oppon from gain control each player or team depend on the set ha an amount of time that they need to be in control of the spine sprite in order to win coin runner see player compet to have the most coin in their posses by the end of the match with player gain point by find coin in the cours or steal them from other player renegad roundup a mode introduc in delux involv a team of renegad tri to avoid oppon author arm with piranha plant a play on the children s game cop and robber captur renegad can be freed if their teamat activ a switch near in person in which the captur renegad are held though if all renegad are captur the author emerg victori howev the author will lose if all renegad have not been captur by the end of the time limit market and releas on octob 20 2016 in the initi reveal trailer for the nintendo switch a brief glimps of a mario kart game for the system wa shown though it wa unclear at the time whether it would be a new entri in the seri or a port of mario kart 8 on the wii u three month later at the nintendo switch present on januari 12 2017 the game wa formal reveal as mario kart 8 delux it wa announc that delux would featur all content includ dlc from mario kart 8 as well as a revamp battl mode crossov element from splatoon new mechan and a releas date of april 28 2017 one day after nintendo reveal a steer wheel accessori for the switch s joy con control to be use with delux for motion control steer nintendo releas an overview trailer for delux on march 10 showcas the game s battl mode includ battl mode exclus cours and the return of the shine thief mode from mario kart doubl dash after the trailer sever internet meme circul surround donkey kong appear to perform a celebratori dab on april 12 2017 nintendo s russian storefront reveal a bundl contain the nintendo switch and a copi of mario kart 8 delux though a repres of nintendo claim the compani had no plan at the time to releas the bundl outsid of russia onc the bundl wa introduc to intern audienc in 2018 it ha been promot everi year sinc for black friday fan respons sever mod have been creat for mario kart 8 delux in februari 2022 a mod wa creat that ad kirbi s mouth mode car transform from kirbi and the forgotten land as a select kart and charact in june 2022 a mod wa publish that ad green hill zone from the sonic the hedgehog seri as a cours sale mario kart 8 delux sold 459 000 copi in the unit state on it launch day make it the fastest sell entri in the mario kart seri ahead of 2008 s mario kart wii by 25 000 unit roughli one year after launch delux had sold 9 22 million copi it surpass super mario odyssey as the best sell game on the nintendo switch in 2019 and mario kart wii as the best sell mario kart game in 2021 sinc it releas in 2017 delux ha been a consist top sell game on the nintendo switch as of septemb 30 2022 mario kart 8 delux ha sold 48 41 million unit make it the best sell nintendo switch game as well as one of the best sell game of all time updat and download content on may 18 2017 nintendo releas a softwar updat for mario kart 8 delux that chang one of the victori gestur done by the inkl girl prior to the updat the inkl girl perform a gestur that consist of place her hand on a flex bicep and pump her fist into the air in japan the gestur mean someth similar to bring it on though in european and latin american countri it wa liken to the bra d honneur an offens gestur that can be interpret as up your ass fuck you or similar mean after the updat the inkl girl no longer clench her fist around her flex arm instead simpli perform a fist pump though the rest of the gestur wa unchang on june 25 2018 an updat for mario kart 8 delux ad compat with nintendo labo a toy to life concept that util cardboard and the technolog of the nintendo switch joy con control the first updat introduc the option to use the toy con motorbik as a control in mario kart 8 delux allow the player to control the game use the physic throttl handlebar and gyroscop present on the toy con motorbik while action like brake drift and item pickup are still perform use the standard control button on august 24 2018 it wa announc that the toy con car pedal and key would becom compat with mario kart 8 delux when they launch on septemb 14 use the toy con car pedal and key allow the player to control their charact use physic control includ action like brake and drift as well as use the horn on the steer wheel to launch item on juli 20 2018 an updat wa releas that ad sever element from the legend of zelda breath of the wild includ the motorbik from the game s the champion s ballad dlc as well as an outfit for link in which he wear the champion s tunic from breath of the wild booster cours pass dure a februari 2022 nintendo direct it wa announc that mario kart 8 delux would get a paid download content season pass call the booster cours pass cours in the booster cours pass are larg remast from their incarn in previou mario kart game the booster cours pass is set to releas in six wave with each wave contain eight cours split into two cup total to 48 addit track to be releas by the end of 2023 the first wave of the booster cours pass wa releas on march 22 2022 contain the golden dash cup and the lucki cat cup wave 2 of the booster cours pass releas on august 4 2022 contain the turnip cup and the propel cup wave 2 also includ sky high sunda an origin cours not introduc in a previou mario kart game alongsid the releas of wave 2 nintendo releas an updat to the wave 1 cours coconut mall that chang the car at the end of the cours to move in donut rather than remain stationari except for time trial thi chang wa wide prais especi after mani were disappoint that the car were stationari in the booster cours pass to begin with wave 3 of the booster cours pass is set to releas on decemb 7 2022 contain the rock cup and the moon cup recept critic recept mario kart 8 delux receiv univers acclaim accord to the review aggreg websit metacrit mani review consid it to be the definit version of mario kart 8 as well as one of the best game in the mario kart seri or one of the best race game of all time some review also consier the game to be an essenti purchas for nintendo switch owner howev mani review critic the lack of new content in delux compar to mario kart 8 the core race mode present in mario kart 8 delux wa prais the rubber band mechan present in the game s ai competitor wa critic though game inform note that fan accept that pitfal as a seri mainstay long ago and that delux is still the same great titl from the wii u gamespot and nintendo life also consid delux s core gameplay to be as strong as the origin gamestm s review dislik the return of sponsor crossov despit otherwis appreci the return of all content in delux the mechan chang in delux also receiv prais the abil to hold two item in delux wa prais with mani like how it ad more strategi to delux s item play as well as make gameplay more excit kotaku and eurogam both appreci the chang though they felt that the chang wasn t major access option like smart steer and auto acceler were also prais mani felt that the addit made delux the most access mario kart game and other appreci how they help less experienc player enjoy the game despit make the game too easi for veteran player howev some review dislik how smart steer wa enabl by default upon first launch the game other review dislik the accessbl mechan implement say that they would sometim overcorrect or otherwis lack precis control delux s revamp battl mode receiv wide acclaim easi alli and kotaku claim that the new battl mode far outshin the origin game and pocket gamer said that delux return battl mode to it origin arena battl glori gamesradar+ found that the qualiti present in delux s battl cours rang from solid to excel with venturebeat say that they remedi the issu with the origin mario kart 8 s battl cours howev electron game monthli said that the improv battl mode wa not so much a point for delux that these mode are includ as it is a retroact demerit for the origin mario kart 8 mani critic consid renegad roundup to be the best of delux s battl mode though gamerevolut and usgam said it wa their least favorit of the battl mode recept toward delux s singl player and onlin multiplay offer wa mix 4player said that those play alon or onlin should think twice about buy the game call the game s singl player option unimagin and nintendo world report felt that delux wa lack an import element ign call delux s onlin multiplay as barebon as ever though kotaku felt that it wa as solid as it ever been the graphic and soundtrack of the game wa prais by critic mani describ the game s graphic were gorgeou or beauti with some say that the graphic of delux were an upgrad from the wii u origin gamestm prais the incred light of delux say that cours like rainbow road and electrodrom stood out as fantast showcas for the nintendo univers and it creativ spirit as well as prais the game s sound design ign felt that the great art direct in 8 and 8 delux wa larg respons for the game s graphic qualiti and pcmag describ the game s perform as consist solid asid from the lower framer when play in four player split screen easi alli call delux s soundtrack someth special say that it rendit of both origin and return song were fantast and downright catchi eurogam call the game s soundtrack outrag upbeat and that delux s definin moment wa perhap the game s live band rendit of super mario kart s main theme booster cours pass upon announc the booster cours pass receiv mix recept from fan mani fan dislik that addit content for a previou game wa be priorit over a new entri in the seri cite how it had been nearli eight year sinc mario kart 8 first releas on the wii u the graphic of the cours in the booster cours pass were also a point of content with some say that they fell short of the standard set by delux after releas critic were mix accord to metacrit wave 1 receiv mix or averag review and wave 2 receiv gener favor review critic focus on the graphic which were lower in detail compar to cours from the main game digit foundri attribut thi to the cours be built upon their version from mario kart tour on the other hand mani review felt that the cours that origin in tour were among the best gameplay wise and ninja hideaway in particular wa prais as a highlight of wave 1 some cours in wave 2 were laud with nintendo life call waluigi pinbal s graphic stun anoth common disappoint wa that mani cours did not includ mario kart 8 s signatur anti graviti or underwat featur gamespot lament how the booster cours pass onli introduc new cours rather than new charact or custom part nintendo life prais the audio design call it stellar and a delight and destructoid call sydney sprint s soundtrack the best music of the booster cours pass the addit of cours that vari everi lap wa prais by critic with nintendo life wish it would becom a mainstay featur of the seri accolad mario kart 8 delux ha been nomin for multipl award the game wa nomin for best switch game and best remak remast in ign s best of 2017 award destructoid nomin the game for it best switch game in their game of the year award in 2017 and the game wa award old game of the year at giant bomb s 2017 game of the year award note refer extern link offici websit'"
      ]
     },
     "execution_count": 17,
     "metadata": {},
     "output_type": "execute_result"
    }
   ],
   "source": [
    "prepare_document(ns_bestsellers.wiki_page.iloc[0])"
   ]
  },
  {
   "cell_type": "code",
   "execution_count": 18,
   "metadata": {},
   "outputs": [],
   "source": [
    "cleaned_wikis = ns_bestsellers.wiki_page.apply(lambda x: prepare_document(x))"
   ]
  },
  {
   "cell_type": "code",
   "execution_count": 19,
   "metadata": {},
   "outputs": [],
   "source": [
    "from sklearn.feature_extraction.text import TfidfVectorizer\n",
    "\n",
    "tfidf = TfidfVectorizer()\n",
    "tfidf_wikis = tfidf.fit_transform(cleaned_wikis.tolist())"
   ]
  },
  {
   "cell_type": "code",
   "execution_count": 20,
   "metadata": {},
   "outputs": [
    {
     "data": {
      "text/plain": [
       "(73, 7965)"
      ]
     },
     "execution_count": 20,
     "metadata": {},
     "output_type": "execute_result"
    }
   ],
   "source": [
    "tfidf_wikis.shape"
   ]
  },
  {
   "cell_type": "code",
   "execution_count": 21,
   "metadata": {},
   "outputs": [],
   "source": [
    "video_game_cos_dict = cos_dicts(ns_bestsellers.Title, tfidf_wikis.toarray())"
   ]
  },
  {
   "cell_type": "code",
   "execution_count": 22,
   "metadata": {},
   "outputs": [
    {
     "data": {
      "text/plain": [
       "array([0.09999207, 0.16452101])"
      ]
     },
     "execution_count": 22,
     "metadata": {},
     "output_type": "execute_result"
    }
   ],
   "source": [
    "from sklearn.decomposition import TruncatedSVD\n",
    "\n",
    "svd = TruncatedSVD(n_components=2, random_state=1)\n",
    "svd.fit(tfidf_wikis)\n",
    "svd.explained_variance_ratio_"
   ]
  },
  {
   "cell_type": "code",
   "execution_count": 23,
   "metadata": {},
   "outputs": [],
   "source": [
    "two_d_projection = svd.transform(tfidf_wikis)"
   ]
  },
  {
   "cell_type": "code",
   "execution_count": 24,
   "metadata": {},
   "outputs": [
    {
     "data": {
      "text/plain": [
       "[[0.7071613096928229, -0.004007896242005735],\n",
       " [0.8962073116592086, -0.0011420398181093026],\n",
       " [0.8539801082311657, -0.000171332435410799],\n",
       " [0.8972344842804922, 0.0019192487969316014],\n",
       " [0.7718029309511149, -0.0017894416604157394],\n",
       " [0.8586778911516929, -0.0064637506656401245],\n",
       " [0.01191202343102428, 0.9999237939951644],\n",
       " [0.7007918057805415, -0.008874974527806669],\n",
       " [0.7668279532516866, -0.007334147033914029],\n",
       " [0.6623294477004471, -0.0040418513064617665],\n",
       " [0.7678122771972617, -0.0005738176614580829],\n",
       " [0.8045348150148822, -0.004815274374010706],\n",
       " [0.8089621426457776, -0.00889409297096421],\n",
       " [0.6912699984677548, -0.002004981508617416],\n",
       " [0.7476728374590481, -0.005600191916575279],\n",
       " [0.5804252839860033, -0.0010082536491969885],\n",
       " [0.01191202343102428, 0.9999237939951644],\n",
       " [0.6465912949246286, -0.0007367636643416352],\n",
       " [0.7766298748432107, -0.006530107640287257],\n",
       " [0.73298155578316, -0.008829592324671409],\n",
       " [0.01191202343102428, 0.9999237939951644],\n",
       " [0.7668744549653017, -0.005191208780219475],\n",
       " [0.8530006216596124, -0.0008153761579972528],\n",
       " [0.6429251562015852, -0.0031541627344930556],\n",
       " [0.6606643925755086, -0.0010601011513670711],\n",
       " [0.7390197319756394, -0.005591309259777118],\n",
       " [0.6465939985362851, -0.0011070621492250256],\n",
       " [0.7550321361194996, -0.00569763378190224],\n",
       " [0.7207918303965711, -0.004905172155352997],\n",
       " [0.8686039048024862, -0.002500880086049602],\n",
       " [0.8040614887997838, -0.007745694997881603],\n",
       " [0.733907055209873, 0.002149921903853963],\n",
       " [0.11122919736655962, -0.0014979007098118522],\n",
       " [0.8353127820687528, 0.0008483527229726458],\n",
       " [0.7324251996948395, -5.101234037410749e-05],\n",
       " [0.01191202343102428, 0.9999237939951644],\n",
       " [0.7104455166005004, -0.002414109977480684],\n",
       " [0.01191202343102428, 0.9999237939951644],\n",
       " [0.6401638891976474, -0.000964986089099429],\n",
       " [0.6496118559520183, 0.0012318564278036928],\n",
       " [0.8161170998116537, 0.0011059308794611493],\n",
       " [0.6575480747361231, 0.012569464104388561],\n",
       " [0.6551979744147424, -0.005646256424872655],\n",
       " [0.7741604123322033, -0.004656853493764836],\n",
       " [0.7923301092799676, 0.0008856511032960527],\n",
       " [0.7915443704340702, 0.01568384075394176],\n",
       " [0.01191202343102428, 0.9999237939951644],\n",
       " [0.6831052639949577, 0.005736074787185744],\n",
       " [0.6218912436876634, -0.00048685916064205697],\n",
       " [0.48668817548497334, -0.0016136857100017632],\n",
       " [0.8022396812191368, -0.003756711591302087],\n",
       " [0.7603367144541059, 0.0009674912387593559],\n",
       " [0.581159133924187, -0.0038627500755641243],\n",
       " [0.5462819058386947, 0.006514901368676417],\n",
       " [0.6624959226812855, -0.00820140791818255],\n",
       " [0.5901338638368988, -0.0026335778138770836],\n",
       " [0.7111410187701693, -0.006500570047685221],\n",
       " [0.7262668221054601, -0.005382793432961634],\n",
       " [0.6906725231052888, 0.009861380651850177],\n",
       " [0.7673506489758959, -0.0024233391242802016],\n",
       " [0.7448761133582543, 0.0019637527879372515],\n",
       " [0.01191202343102428, 0.9999237939951644],\n",
       " [0.7649944231544082, -0.0004105731569469688],\n",
       " [0.6839941576957658, -0.0018401278350457597],\n",
       " [0.6195273445766954, -0.003983111263096749],\n",
       " [0.01191202343102428, 0.9999237939951644],\n",
       " [0.7129559599880767, -0.0009497338787595764],\n",
       " [0.6949030929366987, -0.007661024713952662],\n",
       " [0.5337887038991719, -0.0025096884145435886],\n",
       " [0.5337887038991719, -0.0025096884145435886],\n",
       " [0.6775966901833139, -0.003425787055921042],\n",
       " [0.5511070452350865, -0.007020192346934364],\n",
       " [0.4624158227132141, -0.005959608081721991]]"
      ]
     },
     "execution_count": 24,
     "metadata": {},
     "output_type": "execute_result"
    }
   ],
   "source": [
    "two_d_projection.tolist()"
   ]
  },
  {
   "cell_type": "code",
   "execution_count": 25,
   "metadata": {},
   "outputs": [
    {
     "data": {
      "text/plain": [
       "0                          Mario Kart 8 Deluxe\n",
       "1                Animal Crossing: New Horizons\n",
       "2                   Super Smash Bros. Ultimate\n",
       "3      The Legend of Zelda: Breath of the Wild\n",
       "4                     Pokémon Sword and Shield\n",
       "                        ...                   \n",
       "68                              Fitness Boxing\n",
       "69       Fitness Boxing 2: Rhythm and Exercise\n",
       "70                        Shin Megami Tensei V\n",
       "71    Story of Seasons: Pioneers of Olive Town\n",
       "72                             Thief Simulator\n",
       "Name: Title, Length: 73, dtype: object"
      ]
     },
     "execution_count": 25,
     "metadata": {},
     "output_type": "execute_result"
    }
   ],
   "source": [
    "ns_bestsellers.Title"
   ]
  },
  {
   "cell_type": "code",
   "execution_count": 26,
   "metadata": {},
   "outputs": [
    {
     "data": {
      "text/plain": [
       "(73, 2)"
      ]
     },
     "execution_count": 26,
     "metadata": {},
     "output_type": "execute_result"
    }
   ],
   "source": [
    "two_d_projection.shape"
   ]
  },
  {
   "cell_type": "code",
   "execution_count": 27,
   "metadata": {},
   "outputs": [
    {
     "data": {
      "text/html": [
       "<div>\n",
       "<style scoped>\n",
       "    .dataframe tbody tr th:only-of-type {\n",
       "        vertical-align: middle;\n",
       "    }\n",
       "\n",
       "    .dataframe tbody tr th {\n",
       "        vertical-align: top;\n",
       "    }\n",
       "\n",
       "    .dataframe thead th {\n",
       "        text-align: right;\n",
       "    }\n",
       "</style>\n",
       "<table border=\"1\" class=\"dataframe\">\n",
       "  <thead>\n",
       "    <tr style=\"text-align: right;\">\n",
       "      <th></th>\n",
       "      <th>pc1</th>\n",
       "      <th>pc2</th>\n",
       "      <th>names</th>\n",
       "    </tr>\n",
       "  </thead>\n",
       "  <tbody>\n",
       "    <tr>\n",
       "      <th>0</th>\n",
       "      <td>0.707161</td>\n",
       "      <td>-0.004008</td>\n",
       "      <td>Mario Kart 8 Deluxe</td>\n",
       "    </tr>\n",
       "    <tr>\n",
       "      <th>1</th>\n",
       "      <td>0.896207</td>\n",
       "      <td>-0.001142</td>\n",
       "      <td>Animal Crossing: New Horizons</td>\n",
       "    </tr>\n",
       "    <tr>\n",
       "      <th>2</th>\n",
       "      <td>0.853980</td>\n",
       "      <td>-0.000171</td>\n",
       "      <td>Super Smash Bros. Ultimate</td>\n",
       "    </tr>\n",
       "    <tr>\n",
       "      <th>3</th>\n",
       "      <td>0.897234</td>\n",
       "      <td>0.001919</td>\n",
       "      <td>The Legend of Zelda: Breath of the Wild</td>\n",
       "    </tr>\n",
       "    <tr>\n",
       "      <th>4</th>\n",
       "      <td>0.771803</td>\n",
       "      <td>-0.001789</td>\n",
       "      <td>Pokémon Sword and Shield</td>\n",
       "    </tr>\n",
       "  </tbody>\n",
       "</table>\n",
       "</div>"
      ],
      "text/plain": [
       "        pc1       pc2                                    names\n",
       "0  0.707161 -0.004008                      Mario Kart 8 Deluxe\n",
       "1  0.896207 -0.001142            Animal Crossing: New Horizons\n",
       "2  0.853980 -0.000171               Super Smash Bros. Ultimate\n",
       "3  0.897234  0.001919  The Legend of Zelda: Breath of the Wild\n",
       "4  0.771803 -0.001789                 Pokémon Sword and Shield"
      ]
     },
     "execution_count": 27,
     "metadata": {},
     "output_type": "execute_result"
    }
   ],
   "source": [
    "projected_df = pd.DataFrame(two_d_projection, columns = [\"pc1\", \"pc2\"])\n",
    "projected_df[\"names\"] = ns_bestsellers.Title\n",
    "projected_df.head()"
   ]
  },
  {
   "cell_type": "code",
   "execution_count": 28,
   "metadata": {},
   "outputs": [
    {
     "data": {
      "application/vnd.plotly.v1+json": {
       "config": {
        "plotlyServerURL": "https://plot.ly"
       },
       "data": [
        {
         "customdata": [
          [
           "Mario Kart 8 Deluxe"
          ],
          [
           "Animal Crossing: New Horizons"
          ],
          [
           "Super Smash Bros. Ultimate"
          ],
          [
           "The Legend of Zelda: Breath of the Wild"
          ],
          [
           "Pokémon Sword and Shield"
          ],
          [
           "Super Mario Odyssey"
          ],
          [
           "Super Mario Party"
          ],
          [
           "Pokémon Brilliant Diamond and Shining Pearl"
          ],
          [
           "Ring Fit Adventure"
          ],
          [
           "Pokémon: Let's Go, Pikachu! and Let's Go, Eevee!"
          ],
          [
           "Pokémon Legends: Arceus"
          ],
          [
           "New Super Mario Bros. U Deluxe"
          ],
          [
           "Splatoon 2"
          ],
          [
           "Luigi's Mansion 3"
          ],
          [
           "Pokémon Scarlet and Violet"
          ],
          [
           "Super Mario 3D World + Bowser's Fury"
          ],
          [
           "Super Mario 3D All-Stars"
          ],
          [
           "Mario Party Superstars"
          ],
          [
           "Splatoon 3"
          ],
          [
           "Super Mario Maker 2"
          ],
          [
           "Monster Hunter Rise"
          ],
          [
           "Nintendo Switch Sports"
          ],
          [
           "The Legend of Zelda: Link's Awakening"
          ],
          [
           "Kirby and the Forgotten Land"
          ],
          [
           "Mario Tennis Aces"
          ],
          [
           "Clubhouse Games: 51 Worldwide Classics"
          ],
          [
           "Donkey Kong Country: Tropical Freeze"
          ],
          [
           "Hyrule Warriors: Age of Calamity"
          ],
          [
           "Kirby Star Allies"
          ],
          [
           "The Legend of Zelda: Skyward Sword HD"
          ],
          [
           "Fire Emblem: Three Houses"
          ],
          [
           "1-2-Switch"
          ],
          [
           "Momotaro Dentetsu: Showa, Heisei, Reiwa Mo Teiban!"
          ],
          [
           "Paper Mario: The Origami King"
          ],
          [
           "Minecraft"
          ],
          [
           "Among Us"
          ],
          [
           "Yoshi's Crafted World"
          ],
          [
           "Metroid Dread"
          ],
          [
           "New Pokémon Snap"
          ],
          [
           "Arms"
          ],
          [
           "Xenoblade Chronicles 2"
          ],
          [
           "Mario Golf: Super Rush"
          ],
          [
           "Pikmin 3 Deluxe"
          ],
          [
           "Mario Strikers: Battle League"
          ],
          [
           "Octopath Traveler"
          ],
          [
           "Captain Toad: Treasure Tracker"
          ],
          [
           "Dragon Ball FighterZ"
          ],
          [
           "Mario + Rabbids Kingdom Battle"
          ],
          [
           "Pokémon Mystery Dungeon: Rescue Team DX"
          ],
          [
           "Taiko no Tatsujin: Drum 'n' Fun!"
          ],
          [
           "Xenoblade Chronicles 3"
          ],
          [
           "Miitopia"
          ],
          [
           "Xenoblade Chronicles: Definitive Edition"
          ],
          [
           "Big Brain Academy: Brain vs. Brain"
          ],
          [
           "Mario Kart Live: Home Circuit"
          ],
          [
           "Dragon Ball Xenoverse 2"
          ],
          [
           "Pokkén Tournament DX"
          ],
          [
           "Marvel Ultimate Alliance 3: The Black Order"
          ],
          [
           "Nintendo Labo Toy-Con 01: Variety Kit"
          ],
          [
           "Astral Chain"
          ],
          [
           "WarioWare: Get It Together!"
          ],
          [
           "Naruto Shippudden: Ultimate Ninja Storm Trilogy"
          ],
          [
           "Dr Kawashima's Brain Training for Nintendo Switch"
          ],
          [
           "Resident Evil: Revelations Collection"
          ],
          [
           "Game Builder Garage"
          ],
          [
           "Bayonetta 2"
          ],
          [
           "Enter the Gungeon"
          ],
          [
           "Fire Emblem Warriors: Three Hopes"
          ],
          [
           "Fitness Boxing"
          ],
          [
           "Fitness Boxing 2: Rhythm and Exercise"
          ],
          [
           "Shin Megami Tensei V"
          ],
          [
           "Story of Seasons: Pioneers of Olive Town"
          ],
          [
           "Thief Simulator"
          ]
         ],
         "hovertemplate": "x=%{x}<br>y=%{y}<br>hover_data_0=%{customdata[0]}<extra></extra>",
         "legendgroup": "",
         "marker": {
          "color": "#636efa",
          "symbol": "circle"
         },
         "mode": "markers",
         "name": "",
         "orientation": "v",
         "showlegend": false,
         "type": "scatter",
         "x": [
          0.7071613096928229,
          0.8962073116592086,
          0.8539801082311657,
          0.8972344842804922,
          0.7718029309511149,
          0.8586778911516929,
          0.01191202343102428,
          0.7007918057805415,
          0.7668279532516866,
          0.6623294477004471,
          0.7678122771972617,
          0.8045348150148822,
          0.8089621426457776,
          0.6912699984677548,
          0.7476728374590481,
          0.5804252839860033,
          0.01191202343102428,
          0.6465912949246286,
          0.7766298748432107,
          0.73298155578316,
          0.01191202343102428,
          0.7668744549653017,
          0.8530006216596124,
          0.6429251562015852,
          0.6606643925755086,
          0.7390197319756394,
          0.6465939985362851,
          0.7550321361194996,
          0.7207918303965711,
          0.8686039048024862,
          0.8040614887997838,
          0.733907055209873,
          0.11122919736655962,
          0.8353127820687528,
          0.7324251996948395,
          0.01191202343102428,
          0.7104455166005004,
          0.01191202343102428,
          0.6401638891976474,
          0.6496118559520183,
          0.8161170998116537,
          0.6575480747361231,
          0.6551979744147424,
          0.7741604123322033,
          0.7923301092799676,
          0.7915443704340702,
          0.01191202343102428,
          0.6831052639949577,
          0.6218912436876634,
          0.48668817548497334,
          0.8022396812191368,
          0.7603367144541059,
          0.581159133924187,
          0.5462819058386947,
          0.6624959226812855,
          0.5901338638368988,
          0.7111410187701693,
          0.7262668221054601,
          0.6906725231052888,
          0.7673506489758959,
          0.7448761133582543,
          0.01191202343102428,
          0.7649944231544082,
          0.6839941576957658,
          0.6195273445766954,
          0.01191202343102428,
          0.7129559599880767,
          0.6949030929366987,
          0.5337887038991719,
          0.5337887038991719,
          0.6775966901833139,
          0.5511070452350865,
          0.4624158227132141
         ],
         "xaxis": "x",
         "y": [
          -0.004007896242005735,
          -0.0011420398181093026,
          -0.000171332435410799,
          0.0019192487969316014,
          -0.0017894416604157394,
          -0.0064637506656401245,
          0.9999237939951644,
          -0.008874974527806669,
          -0.007334147033914029,
          -0.0040418513064617665,
          -0.0005738176614580829,
          -0.004815274374010706,
          -0.00889409297096421,
          -0.002004981508617416,
          -0.005600191916575279,
          -0.0010082536491969885,
          0.9999237939951644,
          -0.0007367636643416352,
          -0.006530107640287257,
          -0.008829592324671409,
          0.9999237939951644,
          -0.005191208780219475,
          -0.0008153761579972528,
          -0.0031541627344930556,
          -0.0010601011513670711,
          -0.005591309259777118,
          -0.0011070621492250256,
          -0.00569763378190224,
          -0.004905172155352997,
          -0.002500880086049602,
          -0.007745694997881603,
          0.002149921903853963,
          -0.0014979007098118522,
          0.0008483527229726458,
          -0.00005101234037410749,
          0.9999237939951644,
          -0.002414109977480684,
          0.9999237939951644,
          -0.000964986089099429,
          0.0012318564278036928,
          0.0011059308794611493,
          0.012569464104388561,
          -0.005646256424872655,
          -0.004656853493764836,
          0.0008856511032960527,
          0.01568384075394176,
          0.9999237939951644,
          0.005736074787185744,
          -0.00048685916064205697,
          -0.0016136857100017632,
          -0.003756711591302087,
          0.0009674912387593559,
          -0.0038627500755641243,
          0.006514901368676417,
          -0.00820140791818255,
          -0.0026335778138770836,
          -0.006500570047685221,
          -0.005382793432961634,
          0.009861380651850177,
          -0.0024233391242802016,
          0.0019637527879372515,
          0.9999237939951644,
          -0.0004105731569469688,
          -0.0018401278350457597,
          -0.003983111263096749,
          0.9999237939951644,
          -0.0009497338787595764,
          -0.007661024713952662,
          -0.0025096884145435886,
          -0.0025096884145435886,
          -0.003425787055921042,
          -0.007020192346934364,
          -0.005959608081721991
         ],
         "yaxis": "y"
        }
       ],
       "layout": {
        "legend": {
         "tracegroupgap": 0
        },
        "margin": {
         "t": 60
        },
        "template": {
         "data": {
          "bar": [
           {
            "error_x": {
             "color": "#2a3f5f"
            },
            "error_y": {
             "color": "#2a3f5f"
            },
            "marker": {
             "line": {
              "color": "#E5ECF6",
              "width": 0.5
             },
             "pattern": {
              "fillmode": "overlay",
              "size": 10,
              "solidity": 0.2
             }
            },
            "type": "bar"
           }
          ],
          "barpolar": [
           {
            "marker": {
             "line": {
              "color": "#E5ECF6",
              "width": 0.5
             },
             "pattern": {
              "fillmode": "overlay",
              "size": 10,
              "solidity": 0.2
             }
            },
            "type": "barpolar"
           }
          ],
          "carpet": [
           {
            "aaxis": {
             "endlinecolor": "#2a3f5f",
             "gridcolor": "white",
             "linecolor": "white",
             "minorgridcolor": "white",
             "startlinecolor": "#2a3f5f"
            },
            "baxis": {
             "endlinecolor": "#2a3f5f",
             "gridcolor": "white",
             "linecolor": "white",
             "minorgridcolor": "white",
             "startlinecolor": "#2a3f5f"
            },
            "type": "carpet"
           }
          ],
          "choropleth": [
           {
            "colorbar": {
             "outlinewidth": 0,
             "ticks": ""
            },
            "type": "choropleth"
           }
          ],
          "contour": [
           {
            "colorbar": {
             "outlinewidth": 0,
             "ticks": ""
            },
            "colorscale": [
             [
              0,
              "#0d0887"
             ],
             [
              0.1111111111111111,
              "#46039f"
             ],
             [
              0.2222222222222222,
              "#7201a8"
             ],
             [
              0.3333333333333333,
              "#9c179e"
             ],
             [
              0.4444444444444444,
              "#bd3786"
             ],
             [
              0.5555555555555556,
              "#d8576b"
             ],
             [
              0.6666666666666666,
              "#ed7953"
             ],
             [
              0.7777777777777778,
              "#fb9f3a"
             ],
             [
              0.8888888888888888,
              "#fdca26"
             ],
             [
              1,
              "#f0f921"
             ]
            ],
            "type": "contour"
           }
          ],
          "contourcarpet": [
           {
            "colorbar": {
             "outlinewidth": 0,
             "ticks": ""
            },
            "type": "contourcarpet"
           }
          ],
          "heatmap": [
           {
            "colorbar": {
             "outlinewidth": 0,
             "ticks": ""
            },
            "colorscale": [
             [
              0,
              "#0d0887"
             ],
             [
              0.1111111111111111,
              "#46039f"
             ],
             [
              0.2222222222222222,
              "#7201a8"
             ],
             [
              0.3333333333333333,
              "#9c179e"
             ],
             [
              0.4444444444444444,
              "#bd3786"
             ],
             [
              0.5555555555555556,
              "#d8576b"
             ],
             [
              0.6666666666666666,
              "#ed7953"
             ],
             [
              0.7777777777777778,
              "#fb9f3a"
             ],
             [
              0.8888888888888888,
              "#fdca26"
             ],
             [
              1,
              "#f0f921"
             ]
            ],
            "type": "heatmap"
           }
          ],
          "heatmapgl": [
           {
            "colorbar": {
             "outlinewidth": 0,
             "ticks": ""
            },
            "colorscale": [
             [
              0,
              "#0d0887"
             ],
             [
              0.1111111111111111,
              "#46039f"
             ],
             [
              0.2222222222222222,
              "#7201a8"
             ],
             [
              0.3333333333333333,
              "#9c179e"
             ],
             [
              0.4444444444444444,
              "#bd3786"
             ],
             [
              0.5555555555555556,
              "#d8576b"
             ],
             [
              0.6666666666666666,
              "#ed7953"
             ],
             [
              0.7777777777777778,
              "#fb9f3a"
             ],
             [
              0.8888888888888888,
              "#fdca26"
             ],
             [
              1,
              "#f0f921"
             ]
            ],
            "type": "heatmapgl"
           }
          ],
          "histogram": [
           {
            "marker": {
             "pattern": {
              "fillmode": "overlay",
              "size": 10,
              "solidity": 0.2
             }
            },
            "type": "histogram"
           }
          ],
          "histogram2d": [
           {
            "colorbar": {
             "outlinewidth": 0,
             "ticks": ""
            },
            "colorscale": [
             [
              0,
              "#0d0887"
             ],
             [
              0.1111111111111111,
              "#46039f"
             ],
             [
              0.2222222222222222,
              "#7201a8"
             ],
             [
              0.3333333333333333,
              "#9c179e"
             ],
             [
              0.4444444444444444,
              "#bd3786"
             ],
             [
              0.5555555555555556,
              "#d8576b"
             ],
             [
              0.6666666666666666,
              "#ed7953"
             ],
             [
              0.7777777777777778,
              "#fb9f3a"
             ],
             [
              0.8888888888888888,
              "#fdca26"
             ],
             [
              1,
              "#f0f921"
             ]
            ],
            "type": "histogram2d"
           }
          ],
          "histogram2dcontour": [
           {
            "colorbar": {
             "outlinewidth": 0,
             "ticks": ""
            },
            "colorscale": [
             [
              0,
              "#0d0887"
             ],
             [
              0.1111111111111111,
              "#46039f"
             ],
             [
              0.2222222222222222,
              "#7201a8"
             ],
             [
              0.3333333333333333,
              "#9c179e"
             ],
             [
              0.4444444444444444,
              "#bd3786"
             ],
             [
              0.5555555555555556,
              "#d8576b"
             ],
             [
              0.6666666666666666,
              "#ed7953"
             ],
             [
              0.7777777777777778,
              "#fb9f3a"
             ],
             [
              0.8888888888888888,
              "#fdca26"
             ],
             [
              1,
              "#f0f921"
             ]
            ],
            "type": "histogram2dcontour"
           }
          ],
          "mesh3d": [
           {
            "colorbar": {
             "outlinewidth": 0,
             "ticks": ""
            },
            "type": "mesh3d"
           }
          ],
          "parcoords": [
           {
            "line": {
             "colorbar": {
              "outlinewidth": 0,
              "ticks": ""
             }
            },
            "type": "parcoords"
           }
          ],
          "pie": [
           {
            "automargin": true,
            "type": "pie"
           }
          ],
          "scatter": [
           {
            "fillpattern": {
             "fillmode": "overlay",
             "size": 10,
             "solidity": 0.2
            },
            "type": "scatter"
           }
          ],
          "scatter3d": [
           {
            "line": {
             "colorbar": {
              "outlinewidth": 0,
              "ticks": ""
             }
            },
            "marker": {
             "colorbar": {
              "outlinewidth": 0,
              "ticks": ""
             }
            },
            "type": "scatter3d"
           }
          ],
          "scattercarpet": [
           {
            "marker": {
             "colorbar": {
              "outlinewidth": 0,
              "ticks": ""
             }
            },
            "type": "scattercarpet"
           }
          ],
          "scattergeo": [
           {
            "marker": {
             "colorbar": {
              "outlinewidth": 0,
              "ticks": ""
             }
            },
            "type": "scattergeo"
           }
          ],
          "scattergl": [
           {
            "marker": {
             "colorbar": {
              "outlinewidth": 0,
              "ticks": ""
             }
            },
            "type": "scattergl"
           }
          ],
          "scattermapbox": [
           {
            "marker": {
             "colorbar": {
              "outlinewidth": 0,
              "ticks": ""
             }
            },
            "type": "scattermapbox"
           }
          ],
          "scatterpolar": [
           {
            "marker": {
             "colorbar": {
              "outlinewidth": 0,
              "ticks": ""
             }
            },
            "type": "scatterpolar"
           }
          ],
          "scatterpolargl": [
           {
            "marker": {
             "colorbar": {
              "outlinewidth": 0,
              "ticks": ""
             }
            },
            "type": "scatterpolargl"
           }
          ],
          "scatterternary": [
           {
            "marker": {
             "colorbar": {
              "outlinewidth": 0,
              "ticks": ""
             }
            },
            "type": "scatterternary"
           }
          ],
          "surface": [
           {
            "colorbar": {
             "outlinewidth": 0,
             "ticks": ""
            },
            "colorscale": [
             [
              0,
              "#0d0887"
             ],
             [
              0.1111111111111111,
              "#46039f"
             ],
             [
              0.2222222222222222,
              "#7201a8"
             ],
             [
              0.3333333333333333,
              "#9c179e"
             ],
             [
              0.4444444444444444,
              "#bd3786"
             ],
             [
              0.5555555555555556,
              "#d8576b"
             ],
             [
              0.6666666666666666,
              "#ed7953"
             ],
             [
              0.7777777777777778,
              "#fb9f3a"
             ],
             [
              0.8888888888888888,
              "#fdca26"
             ],
             [
              1,
              "#f0f921"
             ]
            ],
            "type": "surface"
           }
          ],
          "table": [
           {
            "cells": {
             "fill": {
              "color": "#EBF0F8"
             },
             "line": {
              "color": "white"
             }
            },
            "header": {
             "fill": {
              "color": "#C8D4E3"
             },
             "line": {
              "color": "white"
             }
            },
            "type": "table"
           }
          ]
         },
         "layout": {
          "annotationdefaults": {
           "arrowcolor": "#2a3f5f",
           "arrowhead": 0,
           "arrowwidth": 1
          },
          "autotypenumbers": "strict",
          "coloraxis": {
           "colorbar": {
            "outlinewidth": 0,
            "ticks": ""
           }
          },
          "colorscale": {
           "diverging": [
            [
             0,
             "#8e0152"
            ],
            [
             0.1,
             "#c51b7d"
            ],
            [
             0.2,
             "#de77ae"
            ],
            [
             0.3,
             "#f1b6da"
            ],
            [
             0.4,
             "#fde0ef"
            ],
            [
             0.5,
             "#f7f7f7"
            ],
            [
             0.6,
             "#e6f5d0"
            ],
            [
             0.7,
             "#b8e186"
            ],
            [
             0.8,
             "#7fbc41"
            ],
            [
             0.9,
             "#4d9221"
            ],
            [
             1,
             "#276419"
            ]
           ],
           "sequential": [
            [
             0,
             "#0d0887"
            ],
            [
             0.1111111111111111,
             "#46039f"
            ],
            [
             0.2222222222222222,
             "#7201a8"
            ],
            [
             0.3333333333333333,
             "#9c179e"
            ],
            [
             0.4444444444444444,
             "#bd3786"
            ],
            [
             0.5555555555555556,
             "#d8576b"
            ],
            [
             0.6666666666666666,
             "#ed7953"
            ],
            [
             0.7777777777777778,
             "#fb9f3a"
            ],
            [
             0.8888888888888888,
             "#fdca26"
            ],
            [
             1,
             "#f0f921"
            ]
           ],
           "sequentialminus": [
            [
             0,
             "#0d0887"
            ],
            [
             0.1111111111111111,
             "#46039f"
            ],
            [
             0.2222222222222222,
             "#7201a8"
            ],
            [
             0.3333333333333333,
             "#9c179e"
            ],
            [
             0.4444444444444444,
             "#bd3786"
            ],
            [
             0.5555555555555556,
             "#d8576b"
            ],
            [
             0.6666666666666666,
             "#ed7953"
            ],
            [
             0.7777777777777778,
             "#fb9f3a"
            ],
            [
             0.8888888888888888,
             "#fdca26"
            ],
            [
             1,
             "#f0f921"
            ]
           ]
          },
          "colorway": [
           "#636efa",
           "#EF553B",
           "#00cc96",
           "#ab63fa",
           "#FFA15A",
           "#19d3f3",
           "#FF6692",
           "#B6E880",
           "#FF97FF",
           "#FECB52"
          ],
          "font": {
           "color": "#2a3f5f"
          },
          "geo": {
           "bgcolor": "white",
           "lakecolor": "white",
           "landcolor": "#E5ECF6",
           "showlakes": true,
           "showland": true,
           "subunitcolor": "white"
          },
          "hoverlabel": {
           "align": "left"
          },
          "hovermode": "closest",
          "mapbox": {
           "style": "light"
          },
          "paper_bgcolor": "white",
          "plot_bgcolor": "#E5ECF6",
          "polar": {
           "angularaxis": {
            "gridcolor": "white",
            "linecolor": "white",
            "ticks": ""
           },
           "bgcolor": "#E5ECF6",
           "radialaxis": {
            "gridcolor": "white",
            "linecolor": "white",
            "ticks": ""
           }
          },
          "scene": {
           "xaxis": {
            "backgroundcolor": "#E5ECF6",
            "gridcolor": "white",
            "gridwidth": 2,
            "linecolor": "white",
            "showbackground": true,
            "ticks": "",
            "zerolinecolor": "white"
           },
           "yaxis": {
            "backgroundcolor": "#E5ECF6",
            "gridcolor": "white",
            "gridwidth": 2,
            "linecolor": "white",
            "showbackground": true,
            "ticks": "",
            "zerolinecolor": "white"
           },
           "zaxis": {
            "backgroundcolor": "#E5ECF6",
            "gridcolor": "white",
            "gridwidth": 2,
            "linecolor": "white",
            "showbackground": true,
            "ticks": "",
            "zerolinecolor": "white"
           }
          },
          "shapedefaults": {
           "line": {
            "color": "#2a3f5f"
           }
          },
          "ternary": {
           "aaxis": {
            "gridcolor": "white",
            "linecolor": "white",
            "ticks": ""
           },
           "baxis": {
            "gridcolor": "white",
            "linecolor": "white",
            "ticks": ""
           },
           "bgcolor": "#E5ECF6",
           "caxis": {
            "gridcolor": "white",
            "linecolor": "white",
            "ticks": ""
           }
          },
          "title": {
           "x": 0.05
          },
          "xaxis": {
           "automargin": true,
           "gridcolor": "white",
           "linecolor": "white",
           "ticks": "",
           "title": {
            "standoff": 15
           },
           "zerolinecolor": "white",
           "zerolinewidth": 2
          },
          "yaxis": {
           "automargin": true,
           "gridcolor": "white",
           "linecolor": "white",
           "ticks": "",
           "title": {
            "standoff": 15
           },
           "zerolinecolor": "white",
           "zerolinewidth": 2
          }
         }
        },
        "xaxis": {
         "anchor": "y",
         "domain": [
          0,
          1
         ],
         "title": {
          "text": "x"
         }
        },
        "yaxis": {
         "anchor": "x",
         "domain": [
          0,
          1
         ],
         "title": {
          "text": "y"
         }
        }
       }
      }
     },
     "metadata": {},
     "output_type": "display_data"
    }
   ],
   "source": [
    "import plotly.express as px\n",
    "\n",
    "px.scatter(x= projected_df.pc1, y = projected_df.pc2, hover_data=[projected_df.names])"
   ]
  },
  {
   "cell_type": "code",
   "execution_count": null,
   "metadata": {},
   "outputs": [],
   "source": []
  }
 ],
 "metadata": {
  "kernelspec": {
   "display_name": "Python 3.10.8 ('wiki-nlp')",
   "language": "python",
   "name": "python3"
  },
  "language_info": {
   "codemirror_mode": {
    "name": "ipython",
    "version": 3
   },
   "file_extension": ".py",
   "mimetype": "text/x-python",
   "name": "python",
   "nbconvert_exporter": "python",
   "pygments_lexer": "ipython3",
   "version": "3.10.8"
  },
  "orig_nbformat": 4,
  "vscode": {
   "interpreter": {
    "hash": "183bb588080b91ad5d7f7fcab589f11f22ed3b9c2d48293515f2f4450ff4ef12"
   }
  }
 },
 "nbformat": 4,
 "nbformat_minor": 2
}
