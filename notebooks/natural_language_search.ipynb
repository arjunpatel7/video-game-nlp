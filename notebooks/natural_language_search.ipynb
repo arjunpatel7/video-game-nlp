{
 "cells": [
  {
   "cell_type": "code",
   "execution_count": 14,
   "metadata": {},
   "outputs": [
    {
     "data": {
      "application/vnd.jupyter.widget-view+json": {
       "model_id": "73b8ff5721d8433a93f92c9ece735582",
       "version_major": 2,
       "version_minor": 0
      },
      "text/plain": [
       "Downloading:   0%|          | 0.00/1.18k [00:00<?, ?B/s]"
      ]
     },
     "metadata": {},
     "output_type": "display_data"
    },
    {
     "data": {
      "application/vnd.jupyter.widget-view+json": {
       "model_id": "b224b575827c49b2ab146caa1f788fe1",
       "version_major": 2,
       "version_minor": 0
      },
      "text/plain": [
       "Downloading:   0%|          | 0.00/190 [00:00<?, ?B/s]"
      ]
     },
     "metadata": {},
     "output_type": "display_data"
    },
    {
     "data": {
      "application/vnd.jupyter.widget-view+json": {
       "model_id": "399d1c61c5ad42efa698d324dc4807c7",
       "version_major": 2,
       "version_minor": 0
      },
      "text/plain": [
       "Downloading:   0%|          | 0.00/5.11k [00:00<?, ?B/s]"
      ]
     },
     "metadata": {},
     "output_type": "display_data"
    },
    {
     "data": {
      "application/vnd.jupyter.widget-view+json": {
       "model_id": "7325ba796698467fa49ef1e205b785e4",
       "version_major": 2,
       "version_minor": 0
      },
      "text/plain": [
       "Downloading:   0%|          | 0.00/627 [00:00<?, ?B/s]"
      ]
     },
     "metadata": {},
     "output_type": "display_data"
    },
    {
     "data": {
      "application/vnd.jupyter.widget-view+json": {
       "model_id": "23e6fc04b64644fcb7c1e05499eaf9f6",
       "version_major": 2,
       "version_minor": 0
      },
      "text/plain": [
       "Downloading:   0%|          | 0.00/122 [00:00<?, ?B/s]"
      ]
     },
     "metadata": {},
     "output_type": "display_data"
    },
    {
     "data": {
      "application/vnd.jupyter.widget-view+json": {
       "model_id": "b4cbc128a61e460cb7ca6c2d6887e54b",
       "version_major": 2,
       "version_minor": 0
      },
      "text/plain": [
       "Downloading:   0%|          | 0.00/90.9M [00:00<?, ?B/s]"
      ]
     },
     "metadata": {},
     "output_type": "display_data"
    },
    {
     "data": {
      "application/vnd.jupyter.widget-view+json": {
       "model_id": "bf644bddef3c4da9a502906e15571707",
       "version_major": 2,
       "version_minor": 0
      },
      "text/plain": [
       "Downloading:   0%|          | 0.00/53.0 [00:00<?, ?B/s]"
      ]
     },
     "metadata": {},
     "output_type": "display_data"
    },
    {
     "data": {
      "application/vnd.jupyter.widget-view+json": {
       "model_id": "2117d7d97f6047149650f2a3947fa578",
       "version_major": 2,
       "version_minor": 0
      },
      "text/plain": [
       "Downloading:   0%|          | 0.00/112 [00:00<?, ?B/s]"
      ]
     },
     "metadata": {},
     "output_type": "display_data"
    },
    {
     "data": {
      "application/vnd.jupyter.widget-view+json": {
       "model_id": "f52f728f2c564c09aa668bf1abc4ba97",
       "version_major": 2,
       "version_minor": 0
      },
      "text/plain": [
       "Downloading:   0%|          | 0.00/466k [00:00<?, ?B/s]"
      ]
     },
     "metadata": {},
     "output_type": "display_data"
    },
    {
     "data": {
      "application/vnd.jupyter.widget-view+json": {
       "model_id": "fb85335176a547ceb1962bcaff100183",
       "version_major": 2,
       "version_minor": 0
      },
      "text/plain": [
       "Downloading:   0%|          | 0.00/430 [00:00<?, ?B/s]"
      ]
     },
     "metadata": {},
     "output_type": "display_data"
    },
    {
     "data": {
      "application/vnd.jupyter.widget-view+json": {
       "model_id": "8e6fc697748e460781e105de1097cfdc",
       "version_major": 2,
       "version_minor": 0
      },
      "text/plain": [
       "Downloading:   0%|          | 0.00/232k [00:00<?, ?B/s]"
      ]
     },
     "metadata": {},
     "output_type": "display_data"
    },
    {
     "data": {
      "application/vnd.jupyter.widget-view+json": {
       "model_id": "516104c8555a42e7834b3292c1c1c4b1",
       "version_major": 2,
       "version_minor": 0
      },
      "text/plain": [
       "Downloading:   0%|          | 0.00/349 [00:00<?, ?B/s]"
      ]
     },
     "metadata": {},
     "output_type": "display_data"
    }
   ],
   "source": [
    "# script that allows for sentence transformers based search\n",
    "\n",
    "from sentence_transformers import SentenceTransformer\n",
    "from datasets import load_dataset\n",
    "\n",
    "model = SentenceTransformer('msmarco-MiniLM-L6-cos-v5')\n",
    "# https://huggingface.co/sentence-transformers/msmarco-MiniLM-L-6-v3"
   ]
  },
  {
   "cell_type": "code",
   "execution_count": null,
   "metadata": {},
   "outputs": [],
   "source": [
    "df = load_dataset(\"arjunpatel/best-selling-video-games\")\n",
    "df.set_format(\"pandas\")\n",
    "df = df[\"train\"][:]\n"
   ]
  },
  {
   "cell_type": "code",
   "execution_count": 15,
   "metadata": {},
   "outputs": [
    {
     "name": "stderr",
     "output_type": "stream",
     "text": [
      "Using custom data configuration arjunpatel--best-selling-video-games-69432951af479ee1\n",
      "Found cached dataset csv (/Users/ArjunPatel/.cache/huggingface/datasets/arjunpatel___csv/arjunpatel--best-selling-video-games-69432951af479ee1/0.0.0/6b34fb8fcf56f7c8ba51dc895bfa2bfbe43546f190a60fcf74bb5e8afdcc2317)\n"
     ]
    },
    {
     "data": {
      "application/vnd.jupyter.widget-view+json": {
       "model_id": "d947526a20e64028a22da61ea8276157",
       "version_major": 2,
       "version_minor": 0
      },
      "text/plain": [
       "  0%|          | 0/1 [00:00<?, ?it/s]"
      ]
     },
     "metadata": {},
     "output_type": "display_data"
    }
   ],
   "source": [
    "#Our sentences we like to encode\n",
    "\n",
    "#Sentences are encoded by calling model.encode()\n",
    "sentence_embeddings = model.encode(df.wiki_page, convert_to_tensor=True)"
   ]
  },
  {
   "cell_type": "code",
   "execution_count": null,
   "metadata": {},
   "outputs": [],
   "source": [
    "# used ideas from Nima's implementation here: https://huggingface.co/spaces/NimaBoscarino/playlist-generator/blob/main/app.py\n",
    "\n",
    "\n",
    "# split up wiki into 512 chunks\n",
    "# embed each chunk\n",
    "# match with game\n",
    "# then dedup hits \n"
   ]
  },
  {
   "cell_type": "code",
   "execution_count": 18,
   "metadata": {},
   "outputs": [
    {
     "name": "stdout",
     "output_type": "stream",
     "text": [
      "\n",
      "\n",
      "======================\n",
      "\n",
      "\n",
      "Query: Find me a mario game with a sports theme\n",
      "\n",
      "Top 5 most similar sentences in corpus:\n",
      "Mario Golf: Super Rush is a golf video game developed by Camelot Software Planning and published by  (Score: 0.5693)\n",
      "Mario Party Superstars is a 2021 party video game developed by NDcube and published by Nintendo for  (Score: 0.5346)\n",
      "Super Mario Maker 2 is a 2019 side-scrolling platform game and level creation system developed and p (Score: 0.5122)\n",
      "Mario Strikers: Battle League is a 2022 sports video game developed by Next Level Games and publishe (Score: 0.4952)\n",
      "Mario + Rabbids Kingdom Battle is a turn-based tactics action-adventure video game developed by Ubis (Score: 0.4818)\n",
      "\n",
      "\n",
      "======================\n",
      "\n",
      "\n",
      "Query: find me a first person shooter game\n",
      "\n",
      "Top 5 most similar sentences in corpus:\n",
      "Monster Hunter (モンスターハンター, Monsutā Hantā) is a Japanese media franchise centered around a series of  (Score: 0.3304)\n",
      "Pokémon Mystery Dungeon is a video game series spin-off from the main Pokémon series developed by Sp (Score: 0.3258)\n",
      "Ring Fit Adventure is an exercising action role-playing game developed and published by Nintendo for (Score: 0.3218)\n",
      "Mario + Rabbids Kingdom Battle is a turn-based tactics action-adventure video game developed by Ubis (Score: 0.3187)\n",
      "Clubhouse Games: 51 Worldwide Classics, known as 51 Worldwide Games in Europe and Australia, is a pa (Score: 0.3107)\n"
     ]
    }
   ],
   "source": [
    "# Find the closest 5 sentences of the corpus for each query sentence based on cosine similarity\n",
    "from sentence_transformers import util\n",
    "import torch\n",
    "queries = [\"Find me a mario game with a sports theme\", \"find me a first person shooter game\"]\n",
    "top_k = min(5, len(sentence_embeddings))\n",
    "for query in queries:\n",
    "    query_embedding = model.encode(query, convert_to_tensor=True)\n",
    "\n",
    "    # We use cosine-similarity and torch.topk to find the highest 5 scores\n",
    "    cos_scores = util.cos_sim(query_embedding, sentence_embeddings)[0]\n",
    "    top_results = torch.topk(cos_scores, k=top_k)\n",
    "\n",
    "    print(\"\\n\\n======================\\n\\n\")\n",
    "    print(\"Query:\", query)\n",
    "    print(\"\\nTop 5 most similar sentences in corpus:\")\n",
    "\n",
    "    for score, idx in zip(top_results[0], top_results[1]):\n",
    "        print(df.wiki_page.tolist()[idx][0:100], \"(Score: {:.4f})\".format(score))\n",
    "\n",
    "    \"\"\"\n",
    "    # Alternatively, we can also use util.semantic_search to perform cosine similarty + topk\n",
    "    hits = util.semantic_search(query_embedding, corpus_embeddings, top_k=5)\n",
    "    hits = hits[0]      #Get the hits for the first query\n",
    "    for hit in hits:\n",
    "        print(corpus[hit['corpus_id']], \"(Score: {:.4f})\".format(hit['score']))\n",
    "    \"\"\""
   ]
  }
 ],
 "metadata": {
  "kernelspec": {
   "display_name": "Python 3.10.8 ('wiki-nlp')",
   "language": "python",
   "name": "python3"
  },
  "language_info": {
   "codemirror_mode": {
    "name": "ipython",
    "version": 3
   },
   "file_extension": ".py",
   "mimetype": "text/x-python",
   "name": "python",
   "nbconvert_exporter": "python",
   "pygments_lexer": "ipython3",
   "version": "3.10.8"
  },
  "orig_nbformat": 4,
  "vscode": {
   "interpreter": {
    "hash": "183bb588080b91ad5d7f7fcab589f11f22ed3b9c2d48293515f2f4450ff4ef12"
   }
  }
 },
 "nbformat": 4,
 "nbformat_minor": 2
}
